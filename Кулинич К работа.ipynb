{
 "cells": [
  {
   "cell_type": "markdown",
   "id": "783a9587",
   "metadata": {},
   "source": [
    "<div style=\"border:solid Green 2px; border-radius: 10px;  padding: 40px\">\n",
    "<b>Привет, Ксения!👋</b>\n",
    "    \n",
    "Меня зовут Зуева Юлия, можно просто Юля 😏 Я буду ревьюером твоего проекта. Рада очередной нашей встрече! Начнем со стандартного втсупления.\n",
    "    \n",
    "Моя основная цель - помочь тебе стать компетентным Data Scientist'ом: вместе преодолеть трудности и еще больше развить твои сильные навыки 💪 В твоей работе я оставила комментарии, которые должны в этом помочь. Для твоего удобства комментарии расскрашены разными цветами: \n",
    "<br/>\n",
    "<div style=\"border-radius: 10px\" class=\"alert alert-success\">\n",
    "<b>Отлично ✅:</b> В случае корректного решения (или отдельных его моментов). На такие решения можно опираться в будущем.\n",
    "</div>\n",
    "<div style=\"border-radius: 10px\" class=\"alert alert-warning\">\n",
    "<b>Рекомендации💡:</b> Если есть возможность как-либо улучшить решение. Ты можешь учесть эти комментарии при доработке проекта, однако для зачета это не обязательно.\n",
    "</div>\n",
    "<div style=\"border-radius: 10px\" class=\"alert alert-block alert-danger\">\n",
    "<b>Нужно доработать ❌:</b> Если решение требует внесения правок. Проект не может быть принят, если остались не отработанные комментарии данного типа.\n",
    "</div>\n",
    "    \n",
    "Чтобы наша с тобой работа была еще эффективнее, ты точно так же можешь оставлять комментарии и задавать мне вопросы. Для таких случаев, пожалуйста, выбери собственное оформление комментариев, которое будет отличаться от моего, чтобы не создавалась путаница. По этой же причине попрошу тебя не удалять и не изменять мои комментарии. Все это позволит лучше ориентироваться в нашем с тобой диалоге, а повторную проверку (в случае ее необходимости) выполнять оперативнее 🚀\n",
    "    \n",
    "Не спеши расстраиваться, если что-то не удалось с первого раза. Вместе мы обязательно разберемся со всеми трудностями! 🤓"
   ]
  },
  {
   "cell_type": "markdown",
   "id": "e7f897ca",
   "metadata": {
    "id": "e7f897ca"
   },
   "source": [
    "# Анализ лояльности пользователей Яндекс Афиши"
   ]
  },
  {
   "cell_type": "markdown",
   "id": "5df67739-d48c-4e8f-a795-758d0a8ceaad",
   "metadata": {},
   "source": [
    "Автор: Кулинич Ксения Леонидовна\n",
    "\n",
    "Дата: 25.10.2025"
   ]
  },
  {
   "cell_type": "markdown",
   "id": "a0d18c08",
   "metadata": {},
   "source": [
    "<div style=\"border:solid #D3D3D3 2px; border-radius: 10px; padding: 15px\">\n",
    "<h3> Комментарий ревьюера <a class=\"tocSkip\"></h3>\n",
    "<h4> Вводная часть <a class=\"tocSkip\"></h4>\n",
    "\n",
    "<div style=\"border-radius: 10px\" class=\"alert alert-warning\">\n",
    "<b>Рекомендации💡:</b> В любой работе важно оставлять вводную часть. Она помогает быстро понять цель, контекст и структуру работы, что будет удобно не только для тебя при возвращении к проекту спустя время, но и любому другому читателю (если, например, публикуешь в открытый доступ для портфолио). Воспринимаем эту тетрадку не просто как выполнение домашней работы на курсе, а как полноценный исследовательский проект.\n",
    "\n",
    "Как правило, в вводную часть включают название проекта, краткое описание цели, используемых данных (источники, объем, особенности), нюансы самого проекта (специфические условия, ограничения, предположения и т.д.). Иногда также сразу обозначают план шагов. Другими словами, вводная часть призвана отразить, что мы делаем, с чем работаем и на каких условиях.\n",
    "</div>"
   ]
  },
  {
   "cell_type": "markdown",
   "id": "ab3b93fd",
   "metadata": {
    "id": "ab3b93fd"
   },
   "source": [
    "## Этапы выполнения проекта\n",
    "\n",
    "### 1. Загрузка данных и их предобработка\n",
    "\n",
    "---\n",
    "\n",
    "**Задача 1.1:** Напишите SQL-запрос, выгружающий в датафрейм pandas необходимые данные. Используйте следующие параметры для подключения к базе данных `data-analyst-afisha`:\n",
    "\n",
    "\n",
    "Для выгрузки используйте запрос из предыдущего урока и библиотеку SQLAlchemy.\n",
    "\n",
    "Выгрузка из базы данных SQL должна позволить собрать следующие данные:\n",
    "\n",
    "- `user_id` — уникальный идентификатор пользователя, совершившего заказ;\n",
    "- `device_type_canonical` — тип устройства, с которого был оформлен заказ (`mobile` — мобильные устройства, `desktop` — стационарные);\n",
    "- `order_id` — уникальный идентификатор заказа;\n",
    "- `order_dt` — дата создания заказа (используйте данные `created_dt_msk`);\n",
    "- `order_ts` — дата и время создания заказа (используйте данные `created_ts_msk`);\n",
    "- `currency_code` — валюта оплаты;\n",
    "- `revenue` — выручка от заказа;\n",
    "- `tickets_count` — количество купленных билетов;\n",
    "- `days_since_prev` — количество дней от предыдущей покупки пользователя, для пользователей с одной покупкой — значение пропущено;\n",
    "- `event_id` — уникальный идентификатор мероприятия;\n",
    "- `service_name` — название билетного оператора;\n",
    "- `event_type_main` — основной тип мероприятия (театральная постановка, концерт и так далее);\n",
    "- `region_name` — название региона, в котором прошло мероприятие;\n",
    "- `city_name` — название города, в котором прошло мероприятие.\n",
    "\n",
    "---\n"
   ]
  },
  {
   "cell_type": "code",
   "execution_count": 1,
   "id": "a1c4e272-f539-4820-ba53-63d5e991b824",
   "metadata": {},
   "outputs": [
    {
     "name": "stdout",
     "output_type": "stream",
     "text": [
      "Requirement already satisfied: sqlalchemy in /opt/conda/lib/python3.9/site-packages (1.4.20)\n",
      "Requirement already satisfied: greenlet!=0.4.17 in /opt/conda/lib/python3.9/site-packages (from sqlalchemy) (1.1.0)\n",
      "Requirement already satisfied: phik in /opt/conda/lib/python3.9/site-packages (0.12.5)\n",
      "Requirement already satisfied: numpy>=1.18.0 in /opt/conda/lib/python3.9/site-packages (from phik) (1.21.1)\n",
      "Requirement already satisfied: matplotlib>=2.2.3 in /opt/conda/lib/python3.9/site-packages (from phik) (3.3.4)\n",
      "Requirement already satisfied: pandas>=0.25.1 in /opt/conda/lib/python3.9/site-packages (from phik) (1.2.4)\n",
      "Requirement already satisfied: joblib>=0.14.1 in /opt/conda/lib/python3.9/site-packages (from phik) (1.1.0)\n",
      "Requirement already satisfied: scipy>=1.5.2 in /opt/conda/lib/python3.9/site-packages (from phik) (1.9.1)\n",
      "Requirement already satisfied: pillow>=6.2.0 in /opt/conda/lib/python3.9/site-packages (from matplotlib>=2.2.3->phik) (8.4.0)\n",
      "Requirement already satisfied: python-dateutil>=2.1 in /opt/conda/lib/python3.9/site-packages (from matplotlib>=2.2.3->phik) (2.8.1)\n",
      "Requirement already satisfied: kiwisolver>=1.0.1 in /opt/conda/lib/python3.9/site-packages (from matplotlib>=2.2.3->phik) (1.4.4)\n",
      "Requirement already satisfied: cycler>=0.10 in /opt/conda/lib/python3.9/site-packages (from matplotlib>=2.2.3->phik) (0.11.0)\n",
      "Requirement already satisfied: pyparsing!=2.0.4,!=2.1.2,!=2.1.6,>=2.0.3 in /opt/conda/lib/python3.9/site-packages (from matplotlib>=2.2.3->phik) (2.4.7)\n",
      "Requirement already satisfied: pytz>=2017.3 in /opt/conda/lib/python3.9/site-packages (from pandas>=0.25.1->phik) (2021.1)\n",
      "Requirement already satisfied: six>=1.5 in /opt/conda/lib/python3.9/site-packages (from python-dateutil>=2.1->matplotlib>=2.2.3->phik) (1.16.0)\n",
      "Requirement already satisfied: dotenv in /opt/conda/lib/python3.9/site-packages (0.9.9)\n",
      "Requirement already satisfied: python-dotenv in /opt/conda/lib/python3.9/site-packages (from dotenv) (1.2.0)\n"
     ]
    }
   ],
   "source": [
    "!pip install sqlalchemy\n",
    "!pip install phik\n",
    "!pip install dotenv"
   ]
  },
  {
   "cell_type": "code",
   "execution_count": null,
   "id": "afb26680-7fcc-495f-9358-cd50abf79592",
   "metadata": {},
   "outputs": [],
   "source": [
    "#импорт библиотек\n",
    "import pandas as pd\n",
    "import numpy as np\n",
    "import matplotlib.pyplot as plt\n",
    "from sqlalchemy import create_engine\n",
    "import phik\n",
    "from phik.report import plot_correlation_matrix\n",
    "\n",
    "\n",
    "from dotenv import load_dotenv\n",
    "import os\n",
    "\n",
    "load_dotenv(dotenv_path='./k.env') \n",
    "\n",
    "DB_HOST=os.getenv(\"DB_HOST\")\n",
    "DB_NAME=os.getenv(\"DB_NAME\")\n",
    "DB_PORT=os.getenv(\"DB_PORT\")\n",
    "DB_USER=os.getenv(\"DB_USER\")\n",
    "DB_PASSWORD=os.getenv(\"DB_PASSWORD\")\n",
    "\n",
    "\n",
    "# Параметры подключения \n",
    "DB_CONFIG = {\n",
    "    'host': DB_HOST,\n",
    "    'port': DB_PORT,\n",
    "    'database': DB_NAME,\n",
    "    'user': DB_USER,\n",
    "    'password': DB_PASSWORD\n",
    "}\n",
    "\n",
    "# код подключения \n",
    "engine = create_engine(f\"postgresql://{DB_CONFIG['user']}:{DB_CONFIG['password']}@{DB_CONFIG['host']}:{DB_CONFIG['port']}/{DB_CONFIG['database']}\")\n",
    "\n",
    "\n",
    "\n",
    "# SQL-запрос \n",
    "query = \"\"\"\n",
    "WITH set_config_precode AS (\n",
    "    SELECT set_config('synchronize_seqscans', 'off', true)\n",
    ")\n",
    "SELECT \n",
    "    p.user_id, \n",
    "    p.device_type_canonical,\n",
    "    p.order_id,\n",
    "    p.created_dt_msk AS order_dt,\n",
    "    p.created_ts_msk AS order_ts,\n",
    "    p.currency_code,\n",
    "    p.revenue, \n",
    "    p.tickets_count,\n",
    "    EXTRACT('days' FROM p.created_dt_msk - LAG(p.created_dt_msk) OVER(PARTITION BY user_id ORDER BY p.created_dt_msk)) AS days_since_prev,\n",
    "    p.event_id, \n",
    "    e.event_name_code AS event_name,\n",
    "    e.event_type_main, \n",
    "    p.service_name,\n",
    "    r.region_name, \n",
    "    c.city_name \n",
    "FROM afisha.purchases AS p \n",
    "INNER JOIN afisha.events AS e ON p.event_id = e.event_id \n",
    "LEFT JOIN afisha.city AS c ON e.city_id = c.city_id \n",
    "LEFT JOIN afisha.regions AS r ON c.region_id = r.region_id\n",
    "WHERE device_type_canonical IN ('mobile', 'desktop')\n",
    "  AND e.event_type_main != 'фильм'\n",
    "ORDER BY user_id\n",
    "\"\"\"\n",
    "\n",
    "# загрузка данных в датафрейм\n",
    "df = pd.read_sql(query, engine)\n",
    "\n",
    "\n",
    "df.head()"
   ]
  },
  {
   "cell_type": "markdown",
   "id": "7ee7d2b4",
   "metadata": {},
   "source": [
    "<div style=\"border:solid #D3D3D3 2px; border-radius: 10px; padding: 15px\">\n",
    "<h3> Комментарий ревьюера <a class=\"tocSkip\"></h3>\n",
    "<h4> Импорты <a class=\"tocSkip\"></h4>\n",
    "\n",
    "<div style=\"border-radius: 10px\" class=\"alert alert-success\">\n",
    "<b>Отлично ✅:</b> Здорово, что все необходимые библиотеки подгружаешь сразу в начале проекта! Это соответсвует стандартам оформления кода <a href='https://pyplanet.ru/article/pep-0008.html'>PEP 8</a>. Такой подход позволяет сразу видеть, какое окружение необходимо для запуска проекта, избежать дублирования импортов в разных частях кода, а также облегчить отладку и переносимость проекта.\n",
    "\n",
    "</div>\n",
    "<div style=\"border-radius: 10px\" class=\"alert alert-warning\">\n",
    "<b>Рекомендации💡:</b> \n",
    "    \n",
    "* Было бы лучше выделить их в отдельную ячейку.\n",
    "    \n",
    "    \n",
    "* Хорошей практикой также является упорядочивание импортов. PEP 8 рекомендует снчала подгружать стандартные python-библиотеки, затем сторонние. Но для удобства каждую их этих групп также можно стуктурировать по тематике. Например, библиотеки для работы с данными, для работы с графиками и т.д. Тогда будет удобнее поддерживать порядок в импортах от проекта к проекту, не подгружать лишнее.\n",
    "    \n",
    "\n",
    "* Чтобы при установке новой библиотеки не выводилась информация о процессе и зависимостях, можно добывлять опцию `--quiet` или просто `-q`. \n",
    "\n",
    "</div>\n",
    "\n",
    "<h4> Загрузка данных <a class=\"tocSkip\"></h4>\n",
    "<div style=\"border-radius: 10px\" class=\"alert alert-success\">\n",
    "<b>Отлично ✅:</b> Выгрузка данных проведена корректно! Была выполнена необходимая фильтрация данных, выгружены только необходимые для анализа данные. Отлично, что сразу подсчитываешь время между заказами для каждого пользователя.\n",
    " \n",
    "</div>\n",
    "<div style=\"border-radius: 10px\" class=\"alert alert-block alert-danger\">\n",
    "<b>Нужно доработать ❌:</b> Сейчас ты явным образом прописываешь параметры подключения к БД. В таком виде выкладывать работу в публичный доступ небезопасно, кто-то сможет завладеть подключением, украсть или повредить данные. Лучше сразу в процессе работы держать чувствиительные значения отдельно от основного содержания, иначе есть высокий риск забыть об этом нюансе. По этой же причине лучше убрать ключи и из описания задания.\n",
    "    \n",
    "Чтобы засекретить подключение, необходимо сложить все параметры в `.env` файл (или другой конфигурационный файл вне Git) и указать его в `.gitignore`:\n",
    "\n",
    "```python\n",
    "DB_NAME=\"...\"\n",
    "DB_HOST=\"...\"\n",
    "DB_PORT=\"...\"\n",
    "DB_USER=\"...\"\n",
    "DB_PASSWORD=\"...\"\n",
    "```\n",
    "    \n",
    "В самом проекте мы можем обращаться к сохраненным параметрам, для этого нам потребуются библиотеки `dotenv`, чтобы загрузить переменные окружения, и `os`, чтобы обратиться к ним:\n",
    "    \n",
    "```python\n",
    "import os\n",
    "import dotenv\n",
    "    \n",
    "load_dotenv() # автоматически ищет .env в текущей директории\n",
    "    \n",
    "connection_string = 'postgresql://{}:{}@{}:{}/{}'.format(\n",
    "    os.getenv('DB_USER'),\n",
    "    os.getenv('DB_PASSWORD'),\n",
    "    os.getenv('DB_HOST'),\n",
    "    os.getenv('DB_PORT'),\n",
    "    os.getenv('DB_NAME'),\n",
    ") \n",
    "```\n",
    "</div>"
   ]
  },
  {
   "cell_type": "markdown",
   "id": "120237b6",
   "metadata": {
    "id": "120237b6"
   },
   "source": [
    "---\n",
    "\n",
    "**Задача 1.2:** Изучите общую информацию о выгруженных данных. Оцените корректность выгрузки и объём полученных данных.\n",
    "\n",
    "Предположите, какие шаги необходимо сделать на стадии предобработки данных — например, скорректировать типы данных.\n",
    "\n",
    "Зафиксируйте основную информацию о данных в кратком промежуточном выводе.\n",
    "\n",
    "---"
   ]
  },
  {
   "cell_type": "code",
   "execution_count": null,
   "id": "e8c6517f",
   "metadata": {
    "id": "e8c6517f"
   },
   "outputs": [],
   "source": [
    "# Размер таблицы\n",
    "print('Размер таблицы:', df.shape)\n",
    "\n",
    "# Общая информация о типах данных\n",
    "print('\\nИнформация о типах данных:')\n",
    "print(df.info())\n"
   ]
  },
  {
   "cell_type": "markdown",
   "id": "1a60c59d-ec88-4b80-9102-8b652c8943a6",
   "metadata": {
    "id": "6b7d2d83"
   },
   "source": [
    "\n",
    "Вывод:\n",
    "- Данных выгружено 290611 строк и 16 столбцов.\n",
    "- Пропуски есть только в столбце `days_since_prev`.\n",
    "- Типы данных в основном корректные,  категориальные данные переведем в тип `category`.\n",
    "- Уменьшим разрядность в тех данных где это возможно.\n",
    "- Данные выглядят корректно, ошибок в выгрузке не обнаружено."
   ]
  },
  {
   "cell_type": "markdown",
   "id": "2fddc27d",
   "metadata": {},
   "source": [
    "<div style=\"border:solid #D3D3D3 2px; border-radius: 10px; padding: 15px\">\n",
    "<h3> Комментарий ревьюера <a class=\"tocSkip\"></h3>\n",
    "<h4> Проверка корректности загруженных данных <a class=\"tocSkip\"></h4>\n",
    "<div style=\"border-radius: 10px\" class=\"alert alert-success\">\n",
    "<b>Отлично ✅:</b> \n",
    "\n",
    "* Хорошо, что убеждаешь в корректности данных! Если при подгрузке возникли проблемы, а мы их не обнаружим, все последующие расчеты могут быть искажены.\n",
    "\n",
    "    \n",
    "* Круто, что не забываешь зафиксировать промежуточные наблюдения в выводах! Если потребуется вернуться к проекту спустя время, будет проще освежить в памяти все ключевые этапы работы, что и почему мы делали, что получили.\n",
    "\n",
    "</div>\n",
    "<div style=\"border-radius: 10px\" class=\"alert alert-warning\">\n",
    "<b>Рекомендации💡:</b> \n",
    "    \n",
    "* По результатам проверки корректности загруженных данных мы планируем дальнейшие шаги по обработке данных. Здесь также можно было отметить, что нам потребуется выполнить проверку на дубликаты (полные и неполные), проверить категориальные столбцы на предмет неявных дубликатов (разный регистр, разный формат записи, опечатки) и числовые столбцы на наличие аномалий и невалидных значений.\n",
    "    \n",
    "    \n",
    "* Было бы не лишним пояснить, почему в `days_since_prev` могут наблюдаться пропуски, проблам ли это, или это нормальная ситауция. В нашем случае, скорее всего, пропуски образовались только на первых заказах пользователей, в таком случае у них не существует предыдущего, от которого можно было бы посчитать количество дней.\n",
    " \n",
    "</div>"
   ]
  },
  {
   "cell_type": "markdown",
   "id": "66945343",
   "metadata": {
    "id": "66945343"
   },
   "source": [
    "---\n",
    "\n",
    "###  2. Предобработка данных\n",
    "\n",
    "Выполните все стандартные действия по предобработке данных:\n",
    "\n",
    "---\n",
    "\n",
    "**Задача 2.1:** Данные о выручке сервиса представлены в российских рублях и казахстанских тенге. Приведите выручку к единой валюте — российскому рублю.\n",
    "\n",
    "Для этого используйте датасет с информацией о курсе казахстанского тенге по отношению к российскому рублю за 2024 год — `final_tickets_tenge_df.csv`. Его можно загрузить по пути `https://code.s3.yandex.net/datasets/final_tickets_tenge_df.csv')`\n",
    "\n",
    "Значения в рублях представлено для 100 тенге.\n",
    "\n",
    "Результаты преобразования сохраните в новый столбец `revenue_rub`.\n",
    "\n",
    "---\n"
   ]
  },
  {
   "cell_type": "code",
   "execution_count": null,
   "id": "c7ed8a0b",
   "metadata": {
    "id": "c7ed8a0b"
   },
   "outputs": [],
   "source": [
    "# # Загружаем таблицу курсов тенге \n",
    "# url = 'https://code.s3.yandex.net/datasets/final_tickets_tenge_df.csv'\n",
    "# tenge_rates = pd.read_csv(url)\n",
    "\n",
    "# display(tenge_rates.head())\n",
    "\n",
    "# # Добавляем столбец revenue_rub с приведением выручки к рублям с рассчетом среднего курса (рублей за 100 тенге)\n",
    "# df['revenue_rub'] = np.where(\n",
    "#     df['currency_code'] == 'KZT',\n",
    "#     df['revenue'] * tenge_rates['curs'].mean() / 100,\n",
    "#     df['revenue']\n",
    "# )\n",
    "\n",
    "# #проверим что рублевые значения выглядят разумно\n",
    "# df.groupby('currency_code')['revenue_rub'].mean()\n"
   ]
  },
  {
   "cell_type": "markdown",
   "id": "31b0cd5c-ff3c-44c2-93d4-ff3d8b54969d",
   "metadata": {},
   "source": [
    "Результаты преобразования выручки в тенге к рублям сохранили в новый столбец revenue_rub."
   ]
  },
  {
   "cell_type": "code",
   "execution_count": null,
   "id": "1054cbe0",
   "metadata": {},
   "outputs": [],
   "source": [
    "# Загружаем таблицу курсов тенге с датами\n",
    "url = 'https://code.s3.yandex.net/datasets/final_tickets_tenge_df.csv'\n",
    "tenge_rates = pd.read_csv(url, parse_dates=['data'])\n",
    "\n",
    "# Приводим дату в обоих датафреймах к одному формату (дата без времени)\n",
    "tenge_rates['data'] = tenge_rates['data'].dt.date\n",
    "df['order_dt'] = df['order_dt'].dt.date\n",
    "\n",
    "# Присоединяем курс к основным данным по дате\n",
    "df = df.merge(tenge_rates, how='left', left_on='order_dt', right_on='data')\n",
    "\n",
    "# Конвертируем выручку: для заказов в тенге используем актуальный курс на дату покупки\n",
    "df['revenue_rub'] = np.where(\n",
    "    df['currency_code'] == 'KZT',\n",
    "    df['revenue'] * df['curs'] / 100,  # курс указан за 100 тенге\n",
    "    df['revenue']\n",
    ")\n",
    "\n",
    "# Проверяем корректность конвертации\n",
    "df[['order_dt', 'currency_code', 'revenue', 'curs', 'revenue_rub']].head(10)\n"
   ]
  },
  {
   "cell_type": "code",
   "execution_count": null,
   "id": "e9d74d84",
   "metadata": {},
   "outputs": [],
   "source": [
    "#Проверить количество пропусков\n",
    "display(df['curs'].isna().sum())\n",
    "df[df['curs'].isna()][['order_dt', 'currency_code', 'revenue']].head(10)"
   ]
  },
  {
   "cell_type": "markdown",
   "id": "4deb604e",
   "metadata": {},
   "source": [
    "<div style=\"border:solid #D3D3D3 2px;  border-radius: 10px; padding: 15px\">\n",
    "<h3> Комментарий ревьюера <a class=\"tocSkip\"></h3>\n",
    "<h4> Перевод выручки в рубли <a class=\"tocSkip\"></h4>\n",
    "\n",
    "<div style=\"border-radius: 10px\" class=\"alert alert-block alert-danger\">\n",
    "<b>Нужно доработать ❌:</b> Курс мог значительно варьировать во времени. Беря средний за период, мы можем существенно потерять в точности. Чтобы было корректно, необходимо учитывать курс на конкретную дату - мы можем присоединить значения курса к нашей основной таблице по дате и уже затем производить расчеты.\n",
    "</div>\n",
    "<div style=\"border-radius: 10px\" class=\"alert alert-warning\">\n",
    "<b>Рекомендации💡:</b> После осуществления каких-то расчетных шагов необходимо убеждаться, что все прошло успешно и мы получили ожидаемый результат. Стоит вывести несколько строк в интересующих нас столбцав, чтобы посмотреть на результат.\n",
    "\n",
    "</div>\n"
   ]
  },
  {
   "cell_type": "markdown",
   "id": "eadd2f26",
   "metadata": {},
   "source": [
    "<div style=\"border:solid #D3D3D3 2px;  border-radius: 10px; padding: 15px\">\n",
    "    Исправлено: теперь конвертация из тенге в рубли производится по курсу на дату покупки, что обеспечивает корректность расчётов.\n",
    "Дополнительно выполнена проверка на корректность результата после объединения таблиц."
   ]
  },
  {
   "cell_type": "markdown",
   "id": "d9867bfe",
   "metadata": {
    "id": "d9867bfe"
   },
   "source": [
    "---\n",
    "\n",
    "**Задача 2.2:**\n",
    "\n",
    "- Проверьте данные на пропущенные значения. Если выгрузка из SQL была успешной, то пропуски должны быть только в столбце `days_since_prev`.\n",
    "- Преобразуйте типы данных в некоторых столбцах, если это необходимо. Обратите внимание на данные с датой и временем, а также на числовые данные, размерность которых можно сократить.\n",
    "- Изучите значения в ключевых столбцах. Обработайте ошибки, если обнаружите их.\n",
    "    - Проверьте, какие категории указаны в столбцах с номинальными данными. Есть ли среди категорий такие, что обозначают пропуски в данных или отсутствие информации? Проведите нормализацию данных, если это необходимо.\n",
    "    - Проверьте распределение численных данных и наличие в них выбросов. Для этого используйте статистические показатели, гистограммы распределения значений или диаграммы размаха.\n",
    "        \n",
    "        Важные показатели в рамках поставленной задачи — это выручка с заказа (`revenue_rub`) и количество билетов в заказе (`tickets_count`), поэтому в первую очередь проверьте данные в этих столбцах.\n",
    "        \n",
    "        Если обнаружите выбросы в поле `revenue_rub`, то отфильтруйте значения по 99 перцентилю.\n",
    "\n",
    "После предобработки проверьте, были ли отфильтрованы данные. Если были, то оцените, в каком объёме. Сформулируйте промежуточный вывод, зафиксировав основные действия и описания новых столбцов.\n",
    "\n",
    "---"
   ]
  },
  {
   "cell_type": "code",
   "execution_count": null,
   "id": "48e5ef83",
   "metadata": {
    "id": "48e5ef83"
   },
   "outputs": [],
   "source": [
    "# Проверим пропуски\n",
    "print('\\nКоличество пропусков в каждом столбце:')\n",
    "print(df.isna().sum())\n"
   ]
  },
  {
   "cell_type": "code",
   "execution_count": null,
   "id": "9d8ad18d-aa38-4e5c-a24a-346302ba7694",
   "metadata": {},
   "outputs": [],
   "source": [
    "# понизим разрядность целочисленных и вещественных (для экономии памяти)\n",
    "for col in ['order_id','event_id','tickets_count']:\n",
    "    if col in df.columns:\n",
    "        df[col] = pd.to_numeric(df[col], downcast='integer')\n",
    "\n",
    "for col in ['revenue','revenue_rub','days_since_prev']:\n",
    "    if col in df.columns:\n",
    "        df[col] = pd.to_numeric(df[col], downcast='float')\n",
    "\n",
    "print(\"\\nТипы данных после минимальной оптимизации:\")\n",
    "print(df.dtypes)"
   ]
  },
  {
   "cell_type": "code",
   "execution_count": null,
   "id": "15f471ad-7734-4332-a991-a3963afd6beb",
   "metadata": {},
   "outputs": [],
   "source": [
    "# Проверим уникальные значения в категориальных столбцах\n",
    "cat_cols = ['device_type_canonical', 'currency_code', 'event_type_main', \n",
    "            'service_name', 'region_name', 'city_name']\n",
    "\n",
    "\n",
    "print('\\nКоличество уникальных значений в категориальных признаках:')\n",
    "for col in cat_cols:\n",
    "    if col in df.columns:\n",
    "        print(f'{col}: {df[col].nunique()}')\n",
    "\n",
    "for c in cat_cols:\n",
    "    if c in df.columns:\n",
    "        df[c] = df[c].astype('category')\n",
    "\n",
    "print(\"\\nПример уникальных значений (по 10) в категориальных полях:\")\n",
    "for c in cat_cols:\n",
    "    if c in df.columns:\n",
    "        print(c, \"→\", list(df[c].dropna().unique())[:10])\n",
    "\n",
    "print(\"\\nТипы данных после оптимизации:\")\n",
    "print(df.dtypes)"
   ]
  },
  {
   "cell_type": "code",
   "execution_count": null,
   "id": "19da3d6b",
   "metadata": {
    "id": "19da3d6b"
   },
   "outputs": [],
   "source": [
    "#Логические проверки ключевых числовых полей\n",
    "zero_or_neg_tickets = (df['tickets_count'] <= 0).sum()\n",
    "neg_rev = (df['revenue_rub'] < 0).sum()\n",
    "print(f\"\\nНекорректные значения: revenue_rub<0 — {neg_rev}, tickets_count<=0 — {zero_or_neg_tickets}\")\n",
    "\n",
    "#выгрузим датафрейм с отрицательными значениями столбца revenue_rub\n",
    "df[df['revenue_rub'] < 0].head(10)\n",
    "\n",
    "# Общее количество строк\n",
    "total_count = len(df)\n",
    "# Доля некорректных значений revenue_rub в процентах\n",
    "neg_percent = (neg_rev / total_count) * 100\n",
    "print(f\"Некорректных значений: {neg_rev} из {total_count} ({neg_percent:.4f}%)\")\n",
    "\n",
    "if neg_rev:\n",
    "    before = len(df)\n",
    "    df = df[(df['revenue_rub'] >= 0)]\n",
    "    print(f\"Удалено строк с некорректными значениями: {before - len(df)}\")\n"
   ]
  },
  {
   "cell_type": "code",
   "execution_count": null,
   "id": "d31ebfc8",
   "metadata": {
    "id": "d31ebfc8"
   },
   "outputs": [],
   "source": [
    "# Распределения и выбросы (гистограммы + boxplot)\n",
    "print(\"\\nОписательная статистика по ключевым числовым полям:\")\n",
    "display(df[['revenue_rub','tickets_count']].describe())\n",
    "\n",
    "plt.figure()\n",
    "df['revenue_rub'].hist(bins='auto')\n",
    "plt.title('Гистограмма выручки в рублях')\n",
    "plt.xlabel('выручка в рублях'); plt.ylabel('count')\n",
    "plt.xlim(0, 4000)  # <-- ограничиваем ось X для лучшей визуализации\n",
    "plt.show()\n",
    "\n",
    "plt.figure()\n",
    "df['tickets_count'].hist(bins='auto')\n",
    "plt.title('Гистограмма количества билетов в заказе')\n",
    "plt.xlabel('количество билетов в заказе'); plt.ylabel('count')\n",
    "plt.xlim(0, 15) \n",
    "plt.show()\n",
    "\n",
    "#диаграмма размаха с выбросами\n",
    "plt.figure()\n",
    "plt.boxplot(df['revenue_rub'].dropna(), vert=False)\n",
    "plt.title('Диаграмма размаха выручки в рублях')\n",
    "plt.xlabel('выручка в рублях')\n",
    "plt.show()\n",
    "\n",
    "#диаграмма размаха с выбросами\n",
    "plt.figure()\n",
    "plt.boxplot(df['tickets_count'].dropna(), vert=False)\n",
    "plt.title('Диаграмма размаха количества билетов в заказе')\n",
    "plt.xlabel('количество билетов в заказе')\n",
    "plt.show()"
   ]
  },
  {
   "cell_type": "code",
   "execution_count": null,
   "id": "9bcfe113-2857-4eb0-9689-505bcd840cc6",
   "metadata": {},
   "outputs": [],
   "source": [
    "# Одновременная фильтрация по 99-му перцентилю revenue_rub и tickets_count (создаём копию датафрейма)\n",
    "p99_revenue = df['revenue_rub'].quantile(0.99)\n",
    "p99_tickets = df['tickets_count'].quantile(0.99)\n",
    "\n",
    "df_filtered = df[\n",
    "    (df['revenue_rub'] <= p99_revenue) &\n",
    "    (df['tickets_count'] <= p99_tickets)\n",
    "].copy()\n",
    "\n",
    "print(f\"99-й перцентиль revenue_rub: {p99_revenue:.2f}\")\n",
    "print(f\"99-й перцентиль tickets_count: {p99_tickets:.2f}\")\n",
    "\n",
    "\n",
    "print(f\"Размер исходного датафрейма: {df.shape[0]} строк\")\n",
    "print(f\"Размер датафрейма после удаления выбросов: {df_filtered.shape[0]} строк\")\n",
    "print(f\"Удалено строк: {df.shape[0] - df_filtered.shape[0]}\")\n",
    "print(f\"Удалено строк: {(df.shape[0] - df_filtered.shape[0])/len(df):.2%}\")\n",
    "# Финальная сводка\n",
    "print(\"Размер набора данных:\", df_filtered.shape)\n"
   ]
  },
  {
   "cell_type": "code",
   "execution_count": null,
   "id": "1cb0387a-93f8-4727-96b9-dfbddf3c7d90",
   "metadata": {},
   "outputs": [],
   "source": [
    "# Создаём диаграммы размаха по новому датафрейму для лучшей наглядности\n",
    "# Boxplot для revenue_rub\n",
    "plt.figure()\n",
    "plt.boxplot(df_filtered['revenue_rub'], vert=False)\n",
    "plt.title('Диаграмма размаха выручки в рублях (по 99 перцентилю)')\n",
    "plt.xlabel('выручка, ₽')\n",
    "plt.show()\n",
    "\n",
    "# Boxplot для tickets_count\n",
    "#plt.subplot(1, 2, 2)\n",
    "plt.figure()\n",
    "plt.boxplot(df_filtered['tickets_count'], vert=False)\n",
    "plt.title('Диаграмма размаха количества билетов в заказе(по 99 перцентилю)')\n",
    "plt.xlabel('Количество билетов')\n",
    "plt.show()"
   ]
  },
  {
   "cell_type": "code",
   "execution_count": null,
   "id": "01502739",
   "metadata": {},
   "outputs": [],
   "source": [
    "# Полные дубликаты всех столбцов \n",
    "full_dups = df_filtered.duplicated(keep=False)\n",
    "print(\"Полных дубликатов (строк):\", full_dups.sum())\n"
   ]
  },
  {
   "cell_type": "code",
   "execution_count": null,
   "id": "220876ce",
   "metadata": {},
   "outputs": [],
   "source": [
    "# Проверка неполных дубликатов (без order_id и days_since_prev)\n",
    "dupes_mask = df_filtered.drop(columns=['order_id', 'days_since_prev']).duplicated(keep=False)\n",
    "dupes_count = dupes_mask.sum()\n",
    "\n",
    "print(f'Количество неполных дубликатов: {dupes_count}')\n",
    "\n",
    "# Выводим сами дубликаты, отсортированные по user_id (удобнее анализировать)\n",
    "dupes_df = df_filtered.loc[dupes_mask].sort_values(by='user_id')\n",
    "display(dupes_df)\n",
    "\n",
    "# Удаляем неполные дубликаты (без order_id и days_since_prev)\n",
    "before = df_filtered.shape[0]\n",
    "\n",
    "df_filtered = df_filtered.drop_duplicates(subset=df_filtered.columns.difference(['order_id', 'days_since_prev']),\n",
    "                        keep='first').reset_index(drop=True)\n",
    "\n",
    "after = df_filtered.shape[0]\n",
    "print(f\"Удалено дубликатов: {before - after}\")\n",
    "print(f\"Итоговое количество строк: {after}\")\n"
   ]
  },
  {
   "cell_type": "markdown",
   "id": "da9600c2-05c0-4587-a923-a2b14a5c1448",
   "metadata": {},
   "source": [
    "Вывод:\n",
    "\n",
    "Пропуски присутствуют только в столбце days_since_prev, что соответствует ожиданиям.\n",
    "\n",
    "Проверены дубликаты. Полные дубликаты не обнаружены. Удалено 40 неполных дубликатов.\n",
    "\n",
    "Типы данных оптимизированы:\n",
    "числовые данные — понижена разрядность до подходящей,\n",
    "категориальные признаки приведены к типу category. Столбцы с датой и временем имеют корректный тип данных datetime64.\n",
    "Среди категорий отсутствуют категории обозначающие пропуски в данных или отсутствие информации. В числовом столбце revenue_rub обнаружены 381 строки с  отрицательными значениями, что может быть связано с возвратами билетов. Эти данные составляют всего 0.1311% от общего количества и исключены из анализа.\n",
    "Для числовых показателей выручки в рублях и количества билетов приведена описательная статистика и построены гистограммы распределения и диаграммы размаха. \n",
    "\n",
    "По данным \"Выручка в рублях\":\n",
    "среднее значение=626 сильно выше медианного=357 → распределение право-скошенное (много малых чеков и длинный дорогой “хвост”).\n",
    "min=0 — возможны бесплатные/промо-билеты, возвраты, компенсации. Это не ошибка, но стоит учесть в анализе. max=81 174 при 75%=810 и таком std указывает на выбросы. Это подтверждает необходимость отсечения по p99.\n",
    "\n",
    "Данные \"Количество билетов в заказе\":\n",
    "median=3, IQR от 2 до 4 — типичный заказ 2–4 билета.\n",
    "max=57 — вероятны групповые покупки/корпоративы. Их доля, как правило, мала, но они искажают метрики; для устойчивости можно также ограничить по p99.\n",
    "Выбросы обнаруженные в столбце выручка в рублях и количество билетов отсечены по 99-му перцентилю,\n",
    "при этом создана отдельная таблица df_filtered (исходный df не изменён). Удалено строк: 3089\n",
    "Удалено строк: 1.06%\n",
    "\n",
    "Набор данных подготовлен для анализа пользовательских профилей.Объём очищенных данных:(287101 строк, 16 столбцов)"
   ]
  },
  {
   "cell_type": "markdown",
   "id": "5217ec7a",
   "metadata": {},
   "source": [
    "<div style=\"border:solid #D3D3D3 2px;  border-radius: 10px; padding: 15px\">\n",
    "<h3> Комментарий ревьюера <a class=\"tocSkip\"></h3>\n",
    "<h4> Предобработка данных <a class=\"tocSkip\"></h4>\n",
    "\n",
    "<div style=\"border-radius: 10px\" class=\"alert alert-success\">\n",
    "<b>Отлично ✅:</b> \n",
    "    \n",
    "* В целом с задачей справились, предобработку провели!\n",
    "    \n",
    "    \n",
    "* Хорошо, что сопровождаешь графики заголовком и всеми необходимыми подписями - сразу понятно, что изображено на нем и как его читать!\n",
    "\n",
    "</div>\n",
    "<div style=\"border-radius: 10px\" class=\"alert alert-warning\">\n",
    "<b>Рекомендации💡:</b> \n",
    "    \n",
    "* Сейчас ты фиксируешь общие выводы только в конце раздела, но он состоит из нескольких логических шагов. Чтобы в работе был понятный сторителлинг, стоит также последовательно фиксировать промежуточные свои наблюдения: почему мы ничего не стали делать с пропусками и перешли к следующему шагу? Как приняли решение скорректировать тип у тех или иных столбцов? Действительно ли наши категориальные признаки в порядке и не требуют нормализации? Действительно ли в числовых признаках есть выбросы, какова их предполагаемая природа возникновения? Почему мы решили отбросить выбросы? А в выводах уже резюмировать то, что проделали.\n",
    "    \n",
    "    \n",
    "* Для более полного анализа распределения числовых признаков можно также изучать боксплот. Для удобства анализа гистограмму для определенного признака стоит строить рядом с боксплотом, чтобы можно было сопоставлять информацию из них ([пример](https://python-graph-gallery.com/24-histogram-with-a-boxplot-on-top-seaborn/)). Можно даже создать пользовательскую функцию, которая будет принимать на вход признак и выводить для него сразу два типа визуализации в одном графике.\n",
    "    \n",
    "</div>\n",
    "<div style=\"border-radius: 10px\" class=\"alert alert-block alert-danger\">\n",
    "<b>Нужно доработать ❌:</b> \n",
    "    \n",
    "В задании это не указывается, но по умолчанию важным шагом предварительного анализа и предобработки является проверка не только на наличие полных дубликатов, но в том числе и неполных, например, если заказ пользователя задублировался в системе, был создан в нескольких экземплярах с разным `order_id` и, возможно, даже с небольшой разницей во времен. Чтобы не искажать статистические расчеты, от таких наблюдений тоже важно избавляться. Но для начала нужно проверить их начличие - для этого необходимо проверить, есть ли дубликаты на подвыборке без `order_id` и `days_since_prev`.\n",
    "</div>"
   ]
  },
  {
   "cell_type": "markdown",
   "id": "1a6d6642",
   "metadata": {},
   "source": [
    "<div style=\"border:solid #D3D3D3 2px;  border-radius: 10px; padding: 15px\">\n",
    "    Проверка полных и неполных дубликатов произведена. Неполные дубликаты удалены. Вывод скорректирован.\n"
   ]
  },
  {
   "cell_type": "markdown",
   "id": "621c1db9",
   "metadata": {
    "id": "621c1db9"
   },
   "source": [
    "---\n",
    "\n",
    "### 3. Создание профиля пользователя\n",
    "\n",
    "В будущем отдел маркетинга планирует создать модель для прогнозирования возврата пользователей. Поэтому сейчас они просят вас построить агрегированные признаки, описывающие поведение и профиль каждого пользователя.\n",
    "\n",
    "---\n",
    "\n",
    "**Задача 3.1.** Постройте профиль пользователя — для каждого пользователя найдите:\n",
    "\n",
    "- дату первого и последнего заказа;\n",
    "- устройство, с которого был сделан первый заказ;\n",
    "- регион, в котором был сделан первый заказ;\n",
    "- билетного партнёра, к которому обращались при первом заказе;\n",
    "- жанр первого посещённого мероприятия (используйте поле `event_type_main`);\n",
    "- общее количество заказов;\n",
    "- средняя выручка с одного заказа в рублях;\n",
    "- среднее количество билетов в заказе;\n",
    "- среднее время между заказами.\n",
    "\n",
    "После этого добавьте два бинарных признака:\n",
    "\n",
    "- `is_two` — совершил ли пользователь 2 и более заказа;\n",
    "- `is_five` — совершил ли пользователь 5 и более заказов.\n",
    "\n",
    "**Рекомендация:** перед тем как строить профиль, отсортируйте данные по времени совершения заказа.\n",
    "\n",
    "---\n"
   ]
  },
  {
   "cell_type": "code",
   "execution_count": null,
   "id": "d351239c",
   "metadata": {
    "id": "d351239c"
   },
   "outputs": [],
   "source": [
    "# Отсортируем данные по времени заказа (и по order_id для устойчивости при совпадении времени)\n",
    "df_sorted = df_filtered.sort_values(['user_id', 'order_ts', 'order_id'])"
   ]
  },
  {
   "cell_type": "code",
   "execution_count": null,
   "id": "e374ef11",
   "metadata": {
    "id": "e374ef11"
   },
   "outputs": [],
   "source": [
    "# 1) Признаки первого заказа пользователя\n",
    "# Берём первую запись каждого пользователя после сортировки\n",
    "first_order = (\n",
    "    df_sorted\n",
    "    .drop_duplicates(subset='user_id', keep='first')\n",
    "    .loc[:, ['user_id',\n",
    "             'order_ts',                \n",
    "             'device_type_canonical',  \n",
    "             'region_name',             \n",
    "             'service_name',            \n",
    "             'event_type_main']]        \n",
    "    .rename(columns={\n",
    "        'order_ts': 'first_order_ts',\n",
    "        'device_type_canonical': 'first_device',\n",
    "        'region_name': 'first_region',\n",
    "        'service_name': 'first_partner',\n",
    "        'event_type_main': 'first_event_type'\n",
    "    })\n",
    ")\n",
    "# 2) Дата последнего заказа + агрегаты по пользователю\n",
    "agg_part = (\n",
    "    df_sorted\n",
    "    .groupby('user_id', observed=True)\n",
    "    .agg(\n",
    "        last_order_ts=('order_ts', 'max'),\n",
    "        total_orders=('order_id', 'nunique'),\n",
    "        avg_revenue_per_order=('revenue_rub', 'mean'),\n",
    "        avg_tickets_per_order=('tickets_count', 'mean'),\n",
    "    )\n",
    "    .reset_index()\n",
    ")\n",
    "# 3) Среднее время между заказами (в днях)\n",
    "# Считаем разницы во времени между соседними заказами по каждому пользователю\n",
    "df_sorted['order_ts_diff_days'] = (\n",
    "    df_sorted\n",
    "    .groupby('user_id', observed=True)['order_ts']\n",
    "    .diff()\n",
    "    .dt.total_seconds()\n",
    "    .div(86400)  # секунд в сутках\n",
    ")\n",
    "\n",
    "mean_gap = (\n",
    "    df_sorted\n",
    "    .groupby('user_id', observed=True)['order_ts_diff_days']\n",
    "    .mean()  # NaN для пользователей с 1 заказом — это корректно\n",
    "    .reset_index()\n",
    "    .rename(columns={'order_ts_diff_days': 'mean_days_between_orders'})\n",
    ")\n",
    "# 4) Объединим все части профиля\n",
    "user_profile = (\n",
    "    first_order\n",
    "    .merge(agg_part, on='user_id', how='inner')\n",
    "    .merge(mean_gap, on='user_id', how='left')\n",
    ")\n",
    "# 5) Бинарные признаки: is_two (>=2 заказа), is_five (>=5 заказов)\n",
    "user_profile['is_two']  = (user_profile['total_orders'] >= 2)\n",
    "user_profile['is_five'] = (user_profile['total_orders'] >= 5)\n",
    "\n",
    "# Упорядочим столбцы для удобного просмотра\n",
    "cols_order = [\n",
    "    'user_id',\n",
    "    'first_order_ts', 'last_order_ts',\n",
    "    'first_device', 'first_region', 'first_partner', 'first_event_type',\n",
    "    'total_orders', 'avg_revenue_per_order', 'avg_tickets_per_order',\n",
    "    'mean_days_between_orders',\n",
    "    'is_two', 'is_five'\n",
    "]\n",
    "user_profile = user_profile.loc[:, cols_order]\n",
    "\n",
    "# 6) Просмотр результата\n",
    "display(user_profile.head(10))\n",
    "print(f'Профиль сформирован для пользователей: {user_profile.shape[0]}')"
   ]
  },
  {
   "cell_type": "markdown",
   "id": "d0c1b731-2322-4f7f-887f-560cb9ef606f",
   "metadata": {},
   "source": [
    "Профиль 21745 пользователей успешно сформирован"
   ]
  },
  {
   "cell_type": "markdown",
   "id": "72b3b30e",
   "metadata": {},
   "source": [
    "<div style=\"border:solid #D3D3D3 2px;  border-radius: 10px; padding: 15px\">\n",
    "<h3> Комментарий ревьюера <a class=\"tocSkip\"></h3>\n",
    "<h4> Создание профиля пользователя <a class=\"tocSkip\"></h4>\n",
    "\n",
    "<div style=\"border-radius: 10px\" class=\"alert alert-success\">\n",
    "<b>Отлично ✅:</b> Профиль составлен корректно! \n",
    "    \n",
    "</div>\n",
    "<div style=\"border-radius: 10px\" class=\"alert alert-warning\">\n",
    "<b>Рекомендации💡:</b> \n",
    "       \n",
    "* Для получения первого значения в группе удобно использовать агрегат `first`. Но при его использования все так же есть необходимость в предварительной сортировке заказов по времени.\n",
    "    \n",
    "    \n",
    "* У нас ведь уже посчитано количество дней между заказами на этапе выгрузки данных, можно было просто усреднить его. Но, действительно, его можно рассчитать и средствами python.\n",
    "    \n",
    "    \n",
    "* Также есть довольно удобный метод [assign](https://pandas.pydata.org/docs/reference/api/pandas.DataFrame.assign.html), позволяющий дополнять таблицу новыми рассчитанными столбцами.\n",
    "    \n",
    "    Тогда создание всего профиля можно будет записать красивым и удобным по структуре кодом.\n",
    "    \n",
    "    <details> <summary> <span style='color:blue' > Развернуть подробнее. </span> </summary>\n",
    "\n",
    "    ```python\n",
    "profiles = (df\n",
    "            # В начале сортируем данные по дате совершения заказа, что найти первые признаки:\n",
    "            .sort_values(by='order_ts')\n",
    "            # Затем группируем по номеру пользователя и агрегируем данные:\n",
    "            .groupby('user_id')\n",
    "            .agg(\n",
    "                # Находим первую и последнюю даты заказа:\n",
    "                first_order_dt=('order_dt','min'),\n",
    "                last_order_dt=('order_dt','max'),\n",
    "                # Находим устройства, регион, название билетного партнера и тип мероприятия первого заказа:\n",
    "                first_device=('device_type_canonical','first'),\n",
    "                first_region_name=('region_name','first'),\n",
    "                first_service_name=('service_name','first'),\n",
    "                first_event_type=('event_type_main','first'),\n",
    "                # Подсчитваем количество заказов:\n",
    "                total_orders=('order_id','nunique'),\n",
    "                # Считаем статистику по заказам: средняя стоимость заказа, среднее количество билетов:\n",
    "                avg_revenue_rub=('revenue_rub','mean'),\n",
    "                avg_tickets_count=('tickets_count','mean'),\n",
    "                # Считаем среднее количество дней между покупками:\n",
    "                avg_days_since_prev=('days_since_prev','mean')\n",
    "            )\n",
    "            # Создаем два признака: совершил ли пользователь 2 / 5 и более заказов:\n",
    "            .assign(\n",
    "                is_two = lambda x: x['total_orders'] >= 2,\n",
    "                is_five = lambda x: x['total_orders'] >= 5\n",
    "            )\n",
    "            .reset_index()\n",
    ")\n",
    "```\n",
    "</details>\n",
    "</div>"
   ]
  },
  {
   "cell_type": "markdown",
   "id": "1LGZVL7FhrmD",
   "metadata": {
    "id": "1LGZVL7FhrmD"
   },
   "source": [
    "---\n",
    "\n",
    "**Задача 3.2.** Прежде чем проводить исследовательский анализ данных и делать выводы, важно понять, с какими данными вы работаете: насколько они репрезентативны и нет ли в них аномалий.\n",
    "\n",
    "Используя данные о профилях пользователей, рассчитайте:\n",
    "\n",
    "- общее число пользователей в выборке;\n",
    "- среднюю выручку с одного заказа;\n",
    "- долю пользователей, совершивших 2 и более заказа;\n",
    "- долю пользователей, совершивших 5 и более заказов.\n",
    "\n",
    "Также изучите статистические показатели:\n",
    "\n",
    "- по общему числу заказов;\n",
    "- по среднему числу билетов в заказе;\n",
    "- по среднему количеству дней между покупками.\n",
    "\n",
    "По результатам оцените данные: достаточно ли их по объёму, есть ли аномальные значения в данных о количестве заказов и среднем количестве билетов?\n",
    "\n",
    "Если вы найдёте аномальные значения, опишите их и примите обоснованное решение о том, как с ними поступить:\n",
    "\n",
    "- Оставить и учитывать их при анализе?\n",
    "- Отфильтровать данные по какому-то значению, например, по 95-му или 99-му перцентилю?\n",
    "\n",
    "Если вы проведёте фильтрацию, то вычислите объём отфильтрованных данных и выведите статистические показатели по обновлённому датасету."
   ]
  },
  {
   "cell_type": "code",
   "execution_count": null,
   "id": "557be834",
   "metadata": {
    "id": "557be834"
   },
   "outputs": [],
   "source": [
    "# Общее число пользователей в выборке\n",
    "total_users = user_profile['user_id'].nunique()\n",
    "\n",
    "# Средняя выручка с одного заказа (берём среднее по пользователям)\n",
    "avg_revenue_per_order = user_profile['avg_revenue_per_order'].mean()\n",
    "\n",
    "# Доля пользователей, совершивших 2 и более заказа\n",
    "share_two_plus = user_profile['is_two'].mean()\n",
    "\n",
    "# Доля пользователей, совершивших 5 и более заказов\n",
    "share_five_plus = user_profile['is_five'].mean()\n",
    "\n",
    "# Выводим результаты\n",
    "print(f\"Общее число пользователей: {total_users:,}\")\n",
    "print(f\"Средняя выручка с одного заказа (RUB): {avg_revenue_per_order:.2f}\")\n",
    "print(f\"Доля пользователей с ≥2 заказами: {share_two_plus:.2%}\")\n",
    "print(f\"Доля пользователей с ≥5 заказами: {share_five_plus:.2%}\")\n"
   ]
  },
  {
   "cell_type": "markdown",
   "id": "6f7429de-847b-4b9d-826e-f4a7fad6cf96",
   "metadata": {
    "id": "b1eee99f"
   },
   "source": [
    "База выглядит репрезентативной. \n",
    "\n",
    "21 745 пользователей — достаточный объём для устойчивых выводов.\n",
    "\n",
    "Средний чек ≈ 575 ₽ (по средним чеков пользователей) — разумный уровень.\n",
    "\n",
    "Повторные ≥2 заказа: 61.74% — высокая доля возвратов, аудитория лояльная.\n",
    "\n",
    "Супер-лояльные ≥5 заказов: 29.08% — почти треть."
   ]
  },
  {
   "cell_type": "code",
   "execution_count": null,
   "id": "ff28dc17",
   "metadata": {
    "id": "ff28dc17"
   },
   "outputs": [],
   "source": [
    "# Базовая описательная статистика по ключевым показателям профиля\n",
    "key_cols = ['total_orders', 'avg_tickets_per_order', 'mean_days_between_orders']\n",
    "print(\"Описательная статистика по профилю пользователей\")\n",
    "display(user_profile[key_cols].describe())"
   ]
  },
  {
   "cell_type": "code",
   "execution_count": null,
   "id": "52536ad7-b73d-43f3-a85a-b28a45d30cf0",
   "metadata": {},
   "outputs": [],
   "source": [
    "# Визуальная оценка распределений (гистограммы + boxplot)\n",
    "\n",
    "plt.figure(figsize=(12, 3.5))\n",
    "plt.subplot(1, 3, 1)\n",
    "user_profile['total_orders'].hist(bins=60, color='skyblue', edgecolor='black')\n",
    "plt.title('total_orders')\n",
    "plt.ylim(0, 80)\n",
    "\n",
    "# Найдём моду\n",
    "mode_value = user_profile['total_orders'].mode()[0]\n",
    "\n",
    "plt.axvline(mode_value, color='red', linestyle='--', linewidth=2, label=f'Мода = {mode_value}')\n",
    "plt.legend()\n",
    "\n",
    "plt.subplot(1, 3, 2)\n",
    "user_profile['avg_tickets_per_order'].hist(bins=20)\n",
    "plt.title('avg_tickets_per_order')\n",
    "\n",
    "plt.subplot(1, 3, 3)\n",
    "user_profile['mean_days_between_orders'].dropna().hist(bins=40)\n",
    "plt.title('mean_days_between_orders (без NaN)')\n",
    "plt.tight_layout()\n",
    "plt.show()\n",
    "\n",
    "plt.figure(figsize=(12, 3.5))\n",
    "plt.subplot(1, 3, 1)\n",
    "plt.boxplot(user_profile['total_orders'].dropna(), vert=True,showfliers=False)\n",
    "plt.title('Boxplot total_orders')\n",
    "\n",
    "plt.subplot(1, 3, 2)\n",
    "plt.boxplot(user_profile['avg_tickets_per_order'].dropna(), vert=True,showfliers=False)\n",
    "plt.title('Boxplot avg_tickets_per_order')\n",
    "\n",
    "plt.subplot(1, 3, 3)\n",
    "plt.boxplot(user_profile['mean_days_between_orders'].dropna(), vert=True,showfliers=False)\n",
    "plt.title('Boxplot mean_days_between_orders')\n",
    "plt.tight_layout()\n",
    "plt.show()"
   ]
  },
  {
   "cell_type": "code",
   "execution_count": null,
   "id": "93644a9f-a4e5-4f09-a729-95ee6c624988",
   "metadata": {},
   "outputs": [],
   "source": [
    "# 1) Посчитаем пороги p95/p99\n",
    "p95_orders = user_profile['total_orders'].quantile(0.95)\n",
    "p99_orders = user_profile['total_orders'].quantile(0.99)\n",
    "\n",
    "p95_tickets = user_profile['avg_tickets_per_order'].quantile(0.95)\n",
    "p99_tickets = user_profile['avg_tickets_per_order'].quantile(0.99)\n",
    "\n",
    "print(f\"total_orders: p95={p95_orders:.0f}, p99={p99_orders:.0f}\")\n",
    "print(f\"avg_tickets_per_order: p95={p95_tickets:.2f}, p99={p99_tickets:.2f}\")\n",
    "\n",
    "# 2) Посмотрим верхние хвосты (сколько пользователей выше порога)\n",
    "tail_orders_p99 = (user_profile['total_orders'] > p99_orders).sum()\n",
    "tail_tickets_p99 = (user_profile['avg_tickets_per_order'] > p99_tickets).sum()\n",
    "\n",
    "print(f\"Пользователей с total_orders > p99: {tail_orders_p99} \"\n",
    "      f\"({tail_orders_p99/len(user_profile):.2%})\")\n",
    "print(f\"Пользователей с avg_tickets_per_order > p99: {tail_tickets_p99} \"\n",
    "      f\"({tail_tickets_p99/len(user_profile):.2%})\")\n",
    "\n",
    "# 3) Фильтрация: по p99 для total_orders.\n",
    "mask_orders = user_profile['total_orders'] <= p99_orders\n",
    "\n",
    "user_profile_filtered = user_profile[mask_orders].copy()\n",
    "\n",
    "print(f\"\\nРазмер до фильтрации: {len(user_profile):,}\")\n",
    "print(f\"Размер после фильтрации по total_orders<=p99: {len(user_profile_filtered):,}\")\n",
    "print(f\"Удалено: {len(user_profile) - len(user_profile_filtered)} \"\n",
    "      f\"({(len(user_profile) - len(user_profile_filtered))/len(user_profile):.2%})\")\n",
    "\n",
    "# 4) Сравнение описательной статистики «до/после»\n",
    "cols = ['total_orders', 'avg_tickets_per_order', 'mean_days_between_orders']\n",
    "print(\"\\nОписательная статистика ДО:\")\n",
    "display(user_profile[cols].describe())\n",
    "\n",
    "print(\"Описательная статистика ПОСЛЕ (user_profile_filtered):\")\n",
    "display(user_profile_filtered[cols].describe())\n"
   ]
  },
  {
   "cell_type": "markdown",
   "id": "82823627-d50f-4c61-9db3-8466bc7c3285",
   "metadata": {},
   "source": [
    "Вывод:\n",
    "Объём данных достаточный (21.7k профилей) и репрезентативный.Размер до фильтрации: 21,745 \n",
    "Аномальные значения:\n",
    "В total_orders есть редкие экстремальные наблюдения (до 10k+), искажающие средние (единичные экстремальные значения до 10179, вероятно, корпоративные/агрегированные аккаунты, тестовые/служебные записи и т.д.) — мы отсекли p99, потеря данных незначительна (выведено в процентах).\n",
    "\n",
    "avg_tickets_per_order имеет разумный диапазон (IQR ~2.0–3.1; max=6) распределение компактное. Отсечение по p99 можно не делать (хвост короткий),\n",
    "\n",
    "mean_days_between_orders не фильтруем — длинные интервалы отражают пользовательское поведение; NaN у первой покупки — норма.\n",
    "\n",
    "Все ключевые статистики пересчитаны на user_profile_filtered — метрики стали устойчивее (медианы/квантили ближе к центру распределения).\n",
    "\n",
    "Размер до фильтрации: 21,745\n",
    "Размер после фильтрации по total_orders<=p99: 21,527 Удалено: 218 записей (1.00%)"
   ]
  },
  {
   "cell_type": "markdown",
   "id": "2200123d",
   "metadata": {},
   "source": [
    "<div style=\"border:solid #D3D3D3 2px;  border-radius: 10px; padding: 15px\">\n",
    "<h3> Комментарий ревьюера <a class=\"tocSkip\"></h3>\n",
    "<h4> Анализ пользовательских профилей <a class=\"tocSkip\"></h4>\n",
    "\n",
    "<div style=\"border-radius: 10px\" class=\"alert alert-success\">\n",
    "<b>Отлично ✅:</b> Здесь тоже все супер, выполнены все необходимые шаги! \n",
    "</div>\n",
    "<div style=\"border-radius: 10px\" class=\"alert alert-warning\">\n",
    "<b>Рекомендации💡:</b> \n",
    "    \n",
    "* Опять же, для сохранения сторителлинга было бы лучше сначала обосновать выбор стратегии по обработке, а потом уже приступить к ее выполнению при необходимости.\n",
    "    \n",
    "    \n",
    "* Можно чуть поколдовать над графиками для удобства и красоты.\n",
    "  \n",
    "</div>"
   ]
  },
  {
   "cell_type": "markdown",
   "id": "6yhiv3t1mPNU",
   "metadata": {
    "id": "6yhiv3t1mPNU"
   },
   "source": [
    "---\n",
    "\n",
    "### 4. Исследовательский анализ данных\n",
    "\n",
    "Следующий этап — исследование признаков, влияющих на возврат пользователей, то есть на совершение повторного заказа. Для этого используйте профили пользователей."
   ]
  },
  {
   "cell_type": "markdown",
   "id": "6fe731c3",
   "metadata": {
    "id": "6fe731c3"
   },
   "source": [
    "\n",
    "\n",
    "#### 4.1. Исследование признаков первого заказа и их связи с возвращением на платформу\n",
    "\n",
    "Исследуйте признаки, описывающие первый заказ пользователя, и выясните, влияют ли они на вероятность возвращения пользователя.\n",
    "\n",
    "---\n",
    "\n",
    "**Задача 4.1.1.** Изучите распределение пользователей по признакам.\n",
    "\n",
    "- Сгруппируйте пользователей:\n",
    "    - по типу их первого мероприятия;\n",
    "    - по типу устройства, с которого совершена первая покупка;\n",
    "    - по региону проведения мероприятия из первого заказа;\n",
    "    - по билетному оператору, продавшему билеты на первый заказ.\n",
    "- Подсчитайте общее количество пользователей в каждом сегменте и их долю в разрезе каждого признака. Сегмент — это группа пользователей, объединённых определённым признаком, то есть объединённые принадлежностью к категории. Например, все клиенты, сделавшие первый заказ с мобильного телефона, — это сегмент.\n",
    "- Ответьте на вопрос: равномерно ли распределены пользователи по сегментам или есть выраженные «точки входа» — сегменты с наибольшим числом пользователей?\n",
    "\n",
    "---\n"
   ]
  },
  {
   "cell_type": "code",
   "execution_count": null,
   "id": "a8228a03",
   "metadata": {
    "id": "a8228a03"
   },
   "outputs": [],
   "source": [
    "# Распределение пользователей по признакам \n",
    "base = user_profile_filtered.copy()\n",
    "\n",
    "def seg_table(df, col, top_n=10):\n",
    "    \"\"\"Сводная по сегментам: count, share; отсортирована по count.\"\"\"\n",
    "    total = df['user_id'].nunique()\n",
    "    tbl = (df\n",
    "           .groupby(col, dropna=False,observed=True)['user_id']\n",
    "           .nunique()\n",
    "           .reset_index(name='users'))\n",
    "    tbl['share'] = tbl['users'] / total\n",
    "    tbl = tbl.sort_values('users', ascending=False, kind='mergesort')\n",
    "    return tbl, total\n",
    "\n",
    "# 1) По типу первого мероприятия\n",
    "event_tbl, total_users = seg_table(base, 'first_event_type')\n",
    "print(f\"Всего пользователей: {total_users:,}\")\n",
    "display(event_tbl.head(10))\n",
    "\n",
    "# 2) По типу устройства первого заказа\n",
    "device_tbl, _ = seg_table(base, 'first_device')\n",
    "display(device_tbl.head(10))\n",
    "\n",
    "# 3) По региону первого заказа\n",
    "region_tbl, _ = seg_table(base, 'first_region')\n",
    "display(region_tbl.head(10))\n",
    "\n",
    "# 4) По билетному оператору первого заказа\n",
    "partner_tbl, _ = seg_table(base, 'first_partner')\n",
    "display(partner_tbl.head(10))\n",
    "\n",
    "# визуализация ТОП-10 сегментов по каждому признаку\n",
    "fig, axes = plt.subplots(2, 2, figsize=(12, 8))\n",
    "for ax, (tbl, title, colname) in zip(\n",
    "    axes.ravel(),\n",
    "    [\n",
    "        (event_tbl.head(10),  'TOP-10: первый тип мероприятия', 'first_event_type'),\n",
    "        (device_tbl.head(10), 'TOP-10: устройство первого заказа', 'first_device'),\n",
    "        (region_tbl.head(10), 'TOP-10: регион первого заказа', 'first_region'),\n",
    "        (partner_tbl.head(10),'TOP-10: билетный оператор первого заказа', 'first_partner'),\n",
    "    ]\n",
    "):\n",
    "    ax.barh(tbl[colname].astype(str), tbl['users'])\n",
    "    ax.set_title(title)\n",
    "    ax.invert_yaxis()\n",
    "    ax.set_xlabel('число пользователей')\n",
    "plt.tight_layout()\n",
    "plt.show()\n",
    "\n",
    "# Дополнительно: быстро посмотрим «концентрацию входа» — доля ТОП сегментов\n",
    "def top_concentration(tbl, k=3):\n",
    "    return tbl['share'].head(k).sum()\n",
    "\n",
    "print(\"\\nКонцентрация пользователей (доли ТОП-3 сегментов):\")\n",
    "print(\"first_event_type:\", f\"{top_concentration(event_tbl, 3):.2%}\")\n",
    "print(\"first_device    :\", f\"{top_concentration(device_tbl, 3):.2%}\")\n",
    "print(\"first_region    :\", f\"{top_concentration(region_tbl, 3):.2%}\")\n",
    "print(\"first_partner   :\", f\"{top_concentration(partner_tbl, 3):.2%}\")\n"
   ]
  },
  {
   "cell_type": "markdown",
   "id": "6130c474-fa37-4afe-b0c2-fb33f51f770d",
   "metadata": {
    "id": "b5e97b12"
   },
   "source": [
    "Тип первого мероприятия (first_event_type): распределение сильно неравномерное.\n",
    "Главные «точки входа» — концерты, «другое» (объединённая категория) и театр.\n",
    "На них приходится более 88 % первых покупок. Остальные жанры — нишевые.\n",
    "\n",
    "Устройство первого заказа (first_device): явная доминация мобильных устройств — это главная точка входа в сервис.\n",
    "Доля desktop-пользователей менее 20 %, что логично для современной аудитории.\n",
    "\n",
    "Регион первого заказа (first_region): аудитория сконцентрирована в двух крупных регионах — Каменевский и Североярская области формируют более 50 % всех первых покупок. Это ярко выраженные географические «точки входа».\n",
    "\n",
    "Билетный партнёр (first_partner): рынок партнёров фрагментирован, но первые 5 компаний обеспечивают около 72 % всех новых пользователей.\n",
    "Главная точка входа — «Билеты без проблем» (24 %), далее — «Лови билет!» и «Мой билет»."
   ]
  },
  {
   "cell_type": "markdown",
   "id": "79013aca-bdf1-4c9e-896d-cebffe37cd00",
   "metadata": {
    "id": "02aedf63"
   },
   "source": [
    "Итоговый вывод по задаче:\n",
    "\n",
    "Распределения по всем признакам неравномерные, есть выраженные точки входа:\n",
    "\n",
    "по жанрам — концерты,театр и другое;\n",
    "\n",
    "по устройствам — мобильные;\n",
    "\n",
    "по регионам — 2 крупных региона (Каменевский и Североярская);\n",
    "\n",
    "по партнёрам — несколько крупных билетных агрегаторов.\n",
    "\n",
    "Это говорит о том, что большинство новых клиентов приходят из ограниченного числа каналов/сегментов.\n",
    "\n",
    "Для маркетинга и аналитики стоит выделить именно эти доминирующие сегменты как основные «ворота» в сервис и отдельно изучить, возвращаются ли пользователи из них чаще других."
   ]
  },
  {
   "cell_type": "markdown",
   "id": "d8ffd79b",
   "metadata": {
    "id": "d8ffd79b"
   },
   "source": [
    "---\n",
    "\n",
    "**Задача 4.1.2.** Проанализируйте возвраты пользователей:\n",
    "\n",
    "- Для каждого сегмента вычислите долю пользователей, совершивших два и более заказа.\n",
    "- Визуализируйте результат подходящим графиком. Если сегментов слишком много, то поместите на график только 10 сегментов с наибольшим количеством пользователей. Такое возможно с сегментами по региону и по билетному оператору.\n",
    "- Ответьте на вопросы:\n",
    "    - Какие сегменты пользователей чаще возвращаются на Яндекс Афишу?\n",
    "    - Наблюдаются ли успешные «точки входа» — такие сегменты, в которых пользователи чаще совершают повторный заказ, чем в среднем по выборке?\n",
    "\n",
    "При интерпретации результатов учитывайте размер сегментов: если в сегменте мало пользователей (например, десятки), то доли могут быть нестабильными и недостоверными, то есть показывать широкую вариацию значений.\n",
    "\n",
    "---\n"
   ]
  },
  {
   "cell_type": "code",
   "execution_count": null,
   "id": "27441ea8",
   "metadata": {
    "id": "27441ea8"
   },
   "outputs": [],
   "source": [
    "#  Доля вернувшихся пользователей (is_two) по сегментам \n",
    "# Базовая доля возврата по всей выборке (для справки на графиках)\n",
    "overall_return_rate = base['is_two'].mean()\n",
    "print(f\"Базовая доля возврата (в среднем по выборке): {overall_return_rate:.2%}\")\n",
    "\n",
    "def segment_return_table(df, col, min_users_for_top=0):\n",
    "    total_users = df['user_id'].nunique()\n",
    "    tbl = (\n",
    "        df.groupby(col, dropna=False, observed=True)\n",
    "          .agg(users=('user_id','nunique'),\n",
    "               repeaters=('is_two','sum'))\n",
    "          .reset_index()\n",
    "    )\n",
    "    tbl['return_rate'] = tbl['repeaters'] / tbl['users']\n",
    "    tbl['share'] = tbl['users'] / total_users\n",
    "    tbl = tbl.sort_values('users', ascending=False, kind='mergesort')\n",
    "    if min_users_for_top > 0:\n",
    "        tbl = tbl[tbl['users'] >= min_users_for_top]\n",
    "    return tbl, total_users\n",
    "\n",
    "# 1) По типу первого мероприятия\n",
    "event_tbl, total_users = segment_return_table(base, 'first_event_type')\n",
    "display(event_tbl)\n",
    "\n",
    "# 2) По типу устройства первого заказа\n",
    "device_tbl, _ = segment_return_table(base, 'first_device')\n",
    "display(device_tbl)\n",
    "\n",
    "# 3) По региону первого заказа\n",
    "region_tbl, _ = segment_return_table(base, 'first_region')\n",
    "display(region_tbl)\n",
    "\n",
    "# 4) По билетному оператору первого заказа\n",
    "partner_tbl, _ = segment_return_table(base, 'first_partner')\n",
    "display(partner_tbl)\n",
    "\n",
    "# Если сегментов много — рисуем только ТОП-10 по числу пользователей.\n",
    "def plot_top10(tbl, colname, title):\n",
    "    top = tbl.head(10)\n",
    "    plt.figure(figsize=(10, 5))\n",
    "    plt.barh(top[colname].astype(str), top['return_rate'])\n",
    "    plt.gca().invert_yaxis()\n",
    "    plt.title(title)\n",
    "    plt.xlabel('Доля вернувшихся (is_two)')\n",
    "    # линия среднего по выборке\n",
    "    plt.axvline(overall_return_rate, linestyle='--')\n",
    "    plt.tight_layout()\n",
    "    plt.show()\n",
    "\n",
    "# Графики\n",
    "plot_top10(event_tbl,   'first_event_type',  'Доля вернувшихся по типу первого мероприятия (ТОП-10 по числу пользователей)')\n",
    "plot_top10(device_tbl,  'first_device',      'Доля вернувшихся по устройству первого заказа')\n",
    "plot_top10(region_tbl,  'first_region',      'Доля вернувшихся по региону первого заказа (ТОП-10 по числу пользователей)')\n",
    "plot_top10(partner_tbl, 'first_partner',     'Доля вернувшихся по партнёру первого заказа (ТОП-10 по числу пользователей)')\n",
    "\n",
    "# Ограничим минимальный размер сегмента, чтобы избежать нестабильных долей (например, >= 100 пользователей).\n",
    "MIN_USERS = 100\n",
    "\n",
    "def top_segments_by_return(tbl, label, k=10, min_users=MIN_USERS):\n",
    "    cand = tbl[tbl['users'] >= min_users].sort_values('return_rate', ascending=False)\n",
    "    print(f\"\\nТОП-{k} сегментов по доле возврата — {label} (users ≥ {min_users}):\")\n",
    "    display(cand.head(k)[[label, 'users', 'share', 'return_rate']])\n",
    "\n",
    "top_segments_by_return(event_tbl,  'first_event_type')\n",
    "top_segments_by_return(device_tbl, 'first_device')\n",
    "top_segments_by_return(region_tbl, 'first_region')\n",
    "top_segments_by_return(partner_tbl,'first_partner')\n"
   ]
  },
  {
   "cell_type": "markdown",
   "id": "feadffb9-ffc9-412e-a7a1-751768192bb4",
   "metadata": {
    "id": "2da12c2e"
   },
   "source": [
    "Вывод:\n",
    "\n",
    "Кто возвращается чаще среднего:\n",
    "Тип первого мероприятия:выставки, театр, концерты \n",
    "Устройство первого заказа: Desktop \n",
    "Регион первого заказа: Светополянский округ , Горицветская область и Берёзовская область\n",
    "Билетный партнёр первого заказа: Край билетов , Show_ticket,Дом культуры и др.\n",
    "Есть ли «успешные точки входа»?\n",
    "Да. Сегменты, где доля возврата выше 61.36% и при этом заметная доля пользователей:\n",
    "Театр (жанр первого заказа).\n",
    "Desktop (устройство, хоть и меньшинство, но с лучшим удержанием).\n",
    "Регионы: Североярская, Широковская, также Каменевский (чуть выше среднего и крупнейший по объёму).\n",
    "Партнёры: Билеты в руки, Облачко, Весь в билетах.\n"
   ]
  },
  {
   "cell_type": "markdown",
   "id": "1cd85c08",
   "metadata": {
    "id": "1cd85c08",
    "outputId": "0afbc606-1346-4bf6-f188-550c838d0f5d",
    "scrolled": false
   },
   "source": [
    "---\n",
    "\n",
    "**Задача 4.1.3.** Опираясь на выводы из задач выше, проверьте продуктовые гипотезы:\n",
    "\n",
    "- **Гипотеза 1.** Тип мероприятия влияет на вероятность возврата на Яндекс Афишу: пользователи, которые совершили первый заказ на спортивные мероприятия, совершают повторный заказ чаще, чем пользователи, оформившие свой первый заказ на концерты.\n",
    "- **Гипотеза 2.** В регионах, где больше всего пользователей посещают мероприятия, выше доля повторных заказов, чем в менее активных регионах.\n",
    "\n",
    "---"
   ]
  },
  {
   "cell_type": "code",
   "execution_count": null,
   "id": "1f023ef3",
   "metadata": {
    "id": "1f023ef3"
   },
   "outputs": [],
   "source": [
    "# Гипотеза 1  \n",
    "# Оставим только два нужных сегмента\n",
    "h1 = base[base['first_event_type'].isin(['спорт', 'концерты'])].copy()\n",
    "\n",
    "# Групповая сводка: число пользователей и доля вернувшихся\n",
    "h1_tbl = (h1\n",
    "          .groupby('first_event_type', dropna=False, observed=True)\n",
    "          .agg(users=('user_id','nunique'),\n",
    "               repeaters=('is_two','sum'))\n",
    "          .reset_index())\n",
    "h1_tbl['return_rate'] = h1_tbl['repeaters'] / h1_tbl['users']\n",
    "display(h1_tbl)"
   ]
  },
  {
   "cell_type": "markdown",
   "id": "531ba0fa-b4ea-4fb4-b003-c1a6e524f670",
   "metadata": {},
   "source": [
    "Гипотеза 1 \n",
    "\n",
    "Доли возврата: спорт 56.13% < концерты 61.74%.\n",
    "\n",
    "Вывод: гипотеза не подтверждается — пользователи, начавшие со спортивных мероприятий, возвращаются реже, чем те, кто начал с концертов. "
   ]
  },
  {
   "cell_type": "code",
   "execution_count": null,
   "id": "8f9e9b43-7b60-4498-bd47-51c53d4eae5c",
   "metadata": {},
   "outputs": [],
   "source": [
    "#Гипотеза 2\n",
    "region_stats = (\n",
    "    base\n",
    "    .groupby('first_region', observed=True)\n",
    "    .agg(\n",
    "        users=('user_id', 'nunique'),\n",
    "        repeaters=('is_two', 'sum')\n",
    "    )\n",
    "    .reset_index()\n",
    ")\n",
    "\n",
    "# Доля пользователей, совершивших повторный заказ\n",
    "region_stats['return_rate'] = region_stats['repeaters'] / region_stats['users']\n",
    "\n",
    "# Сортируем по числу пользователей\n",
    "region_stats = region_stats.sort_values('users', ascending=False)\n",
    "\n",
    "# Вывод таблицы\n",
    "display(region_stats.head(10))\n",
    "\n",
    "print(f\"Всего регионов в таблице: {region_stats.shape[0]}\")\n"
   ]
  },
  {
   "cell_type": "code",
   "execution_count": null,
   "id": "3abbe098-5019-4449-9ed7-7411c82e6ce6",
   "metadata": {},
   "outputs": [],
   "source": [
    "# считаем корреляцию:\n",
    "pearson_corr = region_stats[['users', 'return_rate']].corr(method='pearson').loc['users', 'return_rate']\n",
    "print(f\"Pearson(users, return_rate) = {pearson_corr:.4f}\")\n"
   ]
  },
  {
   "cell_type": "markdown",
   "id": "862a126b-7729-4950-b0e3-8c48f69dda28",
   "metadata": {},
   "source": [
    "Гипотеза 2 не подтверждается.\n",
    "Корреляция по Pearson = 0.1192 , значения от 0 до 0,3 означают слабую коррекляцию, то есть взаимосвязи практически нет.\n",
    "Различия по регионам существуют, но являются умеренными.\n"
   ]
  },
  {
   "cell_type": "markdown",
   "id": "9dc40ce5",
   "metadata": {},
   "source": [
    "<div style=\"border:solid #D3D3D3 2px;  border-radius: 10px; padding: 15px\">\n",
    "<h3> Комментарий ревьюера <a class=\"tocSkip\"></h3>\n",
    "<h4> Анализ сегментов пользователей <a class=\"tocSkip\"></h4>\n",
    "\n",
    "<div style=\"border-radius: 10px\" class=\"alert alert-success\">\n",
    "<b>Отлично ✅:</b> \n",
    "\n",
    "* По результатам все верно!\n",
    "    \n",
    "    \n",
    "* Здорово, что создаешь пользовательскую функцию, чтобы не прописывать один и тот же код несколько раз!\n",
    "\n",
    "</div>\n",
    "<div style=\"border-radius: 10px\" class=\"alert alert-warning\">\n",
    "<b>Рекомендации💡:</b> \n",
    "\n",
    "* В случае вывода неполного набора сегментов стоит указать, какой процент от выборки они составляют, чтобы было понимание, насколько большая часть данных осталась за пределами нашего обзора.\n",
    "    \n",
    "    \n",
    "* В выводах по анализу сегментов было бы неплохо также попробовать предположить, почему мы могли получить то или иное распределение по сегментам. Это может быть полезно в плане развития стратегий по привлечению новых пользователей.\n",
    "    \n",
    "    \n",
    "* Относительно гипотезы про регионы - обрати внимание, что у нас есть большое количества слишком малочисленных регионов. В менее популярных группах 1 дополнительный пользователь имеет больший вес, а потому показатель возвращаемости у таких категорий больше подвержен колебаниям, менее стабилен, это важно иметь в виду при интерпретации результата. Чтобы сделать более осознаный вывод, можно, к примеру, построить скаттерплот с отображением размера региона и возвращаемости в нем, тогда будет видно всю картину в данных и можно будет сказать, что судя по относительно крупным регионам такой зависимости не наблюдается.\n",
    "    \n",
    "    Но вообще, чтобы наверняка убедиться в том, что возвращаемость в неполпуляных группах ниже, и это не случайное колебание, следует провести статистический тест, оценить значимость различий. Это будет изучаться в дальнейшем на курсе.\n",
    "    \n",
    "</div>"
   ]
  },
  {
   "cell_type": "markdown",
   "id": "88c3b292",
   "metadata": {
    "id": "88c3b292"
   },
   "source": [
    "---\n",
    "\n",
    "#### 4.2. Исследование поведения пользователей через показатели выручки и состава заказа\n",
    "\n",
    "Изучите количественные характеристики заказов пользователей, чтобы узнать среднюю выручку сервиса с заказа и количество билетов, которое пользователи обычно покупают.\n",
    "\n",
    "Эти метрики важны не только для оценки выручки, но и для оценки вовлечённости пользователей. Возможно, пользователи с более крупными и дорогими заказами более заинтересованы в сервисе и поэтому чаще возвращаются.\n",
    "\n",
    "---\n",
    "\n",
    "**Задача 4.2.1.** Проследите связь между средней выручкой сервиса с заказа и повторными заказами.\n",
    "\n",
    "- Постройте сравнительные гистограммы распределения средней выручки с билета (`avg_revenue_rub`):\n",
    "    - для пользователей, совершивших один заказ;\n",
    "    - для вернувшихся пользователей, совершивших 2 и более заказа.\n",
    "- Ответьте на вопросы:\n",
    "    - В каких диапазонах средней выручки концентрируются пользователи из каждой группы?\n",
    "    - Есть ли различия между группами?\n",
    "\n",
    "    \n",
    "**Рекомендация:**\n",
    "\n",
    "1. Используйте одинаковые интервалы (`bins`) и прозрачность (`alpha`), чтобы визуально сопоставить распределения.\n",
    "2. Задайте параметру `density` значение `True`, чтобы сравнивать форму распределений, даже если число пользователей в группах отличается.\n",
    "\n",
    "---\n"
   ]
  },
  {
   "cell_type": "code",
   "execution_count": null,
   "id": "262616d0",
   "metadata": {
    "id": "262616d0"
   },
   "outputs": [],
   "source": [
    "# Связь средней выручки с заказа и повторных покупок\n",
    "# Разделим пользователей на группы\n",
    "one_order = user_profile_filtered[user_profile_filtered['total_orders'] == 1]['avg_revenue_per_order'].dropna()\n",
    "repeaters = user_profile_filtered[user_profile_filtered['total_orders'] >= 2]['avg_revenue_per_order'].dropna()\n",
    "\n",
    "# Единые бины для сравнения распределений\n",
    "all_vals = np.concatenate([one_order.values, repeaters.values])\n",
    "bins = np.histogram_bin_edges(all_vals, bins=30)  # можно увеличить/уменьшить число бинов при желании\n",
    "\n",
    "# Гистограммы \n",
    "plt.figure(figsize=(9, 5))\n",
    "plt.hist(one_order, bins=bins, density=True, alpha=0.5, label='1 заказ')\n",
    "plt.hist(repeaters, bins=bins, density=True, alpha=0.5, label='≥2 заказов')\n",
    "\n",
    "med_one = np.median(one_order)\n",
    "med_rep = np.median(repeaters)\n",
    "plt.axvline(med_one, linestyle='--', linewidth=1)\n",
    "plt.axvline(med_rep, linestyle='--', linewidth=1)\n",
    "\n",
    "plt.title('Распределение средней выручки с заказа (avg_revenue_per_order)')\n",
    "plt.xlabel('Средняя выручка с заказа, ₽')\n",
    "plt.ylabel('Плотность')\n",
    "plt.legend()\n",
    "plt.tight_layout()\n",
    "plt.show()\n",
    "\n",
    "# Краткая числовая сводка по группам \n",
    "def summary_stats(s):\n",
    "    return {\n",
    "        'count': len(s),\n",
    "        'mean': float(np.mean(s)),\n",
    "        'median': float(np.median(s)),\n",
    "        'p25': float(np.quantile(s, 0.25)),\n",
    "        'p75': float(np.quantile(s, 0.75))\n",
    "    }\n",
    "\n",
    "sum_one = summary_stats(one_order)\n",
    "sum_rep = summary_stats(repeaters)\n",
    "\n",
    "print(\"Сводка: 1 заказ ->\", sum_one)\n",
    "print(\"Сводка: ≥2 заказов ->\", sum_rep)\n"
   ]
  },
  {
   "cell_type": "markdown",
   "id": "ed5c27e5-8005-4b7b-ab03-64d4589c45ea",
   "metadata": {},
   "source": [
    "Диапазоны концентрации (p25–p75) и медианы\n",
    "\n",
    "1 заказ: p25–p75 = 141–843 ₽, медиана ≈ 388 ₽.\n",
    "\n",
    "≥2 заказов: p25–p75 = 281–766 ₽, медиана ≈ 505 ₽.\n",
    "\n",
    "Есть ли различия между группами?\n",
    "Да.\n",
    "Медиана у пользователей сделавших более 2х заказов выше (≈ 505 ₽ против 388 ₽): типичный средний чек у вернувшихся пользователей больше.\n",
    "Форма распределений различается: у группы с 1 заказом межквартильный размах шире и смещён левее (много очень дешёвых заказов), но при этом верхний квартиль выше (p75=843 ₽ против 766 ₽), а среднее даже чуть выше (578 ₽ vs 573 ₽). Это указывает на более тяжёлый правый хвост у одноразовых покупателей (есть редкие, но очень дорогие заказы).\n",
    "У вернувшихся распределение более «компактное» и сместилось вправо в центральной части: меньше совсем дешёвых заказов, больше «средних по цене».\n",
    "\n",
    "Итог: пользователи, которые возвращаются, в среднем делают более дорогие типичные заказы (выше медиана), но среди пользователей с одним заказом встречаются и очень дорогие единичные покупки, из-за чего у них шире размах и чуть выше среднее."
   ]
  },
  {
   "cell_type": "markdown",
   "id": "f5416363",
   "metadata": {
    "id": "f5416363",
    "outputId": "59988e63-21c8-4fbe-e009-5769b1e83a42"
   },
   "source": [
    "---\n",
    "\n",
    "**Задача 4.2.2.** Сравните распределение по средней выручке с заказа в двух группах пользователей:\n",
    "\n",
    "- совершившие 2–4 заказа;\n",
    "- совершившие 5 и более заказов.\n",
    "\n",
    "Ответьте на вопрос: есть ли различия по значению средней выручки с заказа между пользователями этих двух групп?\n",
    "\n",
    "---\n"
   ]
  },
  {
   "cell_type": "code",
   "execution_count": null,
   "id": "2ed4916f",
   "metadata": {
    "id": "2ed4916f"
   },
   "outputs": [],
   "source": [
    "# Средняя выручка с заказа: 2–4 vs 5+ заказов \n",
    "# Разбивка на группы\n",
    "grp_2_4 = user_profile_filtered[\n",
    "    (user_profile_filtered['total_orders'] >= 2) & (user_profile_filtered['total_orders'] <= 4)\n",
    "]['avg_revenue_per_order'].dropna()\n",
    "\n",
    "grp_5p = user_profile_filtered[\n",
    "    (user_profile_filtered['total_orders'] >= 5)\n",
    "]['avg_revenue_per_order'].dropna()\n",
    "\n",
    "# Общие бины для сопоставимых гистограмм\n",
    "all_vals = np.concatenate([grp_2_4.values, grp_5p.values])\n",
    "bins = np.histogram_bin_edges(all_vals, bins=30)\n",
    "\n",
    "# Гистограммы\n",
    "plt.figure(figsize=(9,5))\n",
    "plt.hist(grp_2_4, bins=bins, density=True, alpha=0.5, label='2–4 заказа')\n",
    "plt.hist(grp_5p,   bins=bins, density=True, alpha=0.5, label='5+ заказов')\n",
    "\n",
    "# Медианы\n",
    "med_24 = float(np.median(grp_2_4))\n",
    "med_5p = float(np.median(grp_5p))\n",
    "plt.axvline(med_24, linestyle='--', linewidth=1)\n",
    "plt.axvline(med_5p, linestyle='--', linewidth=1)\n",
    "\n",
    "plt.title('Распределение avg_revenue_per_order: 2–4 vs 5+ заказов')\n",
    "plt.xlabel('Средняя выручка с заказа, ₽'); plt.ylabel('Плотность')\n",
    "plt.legend(); plt.tight_layout(); plt.show()\n",
    "\n",
    "# Boxplot\n",
    "plt.figure(figsize=(7,5))\n",
    "plt.boxplot([grp_2_4, grp_5p], tick_labels=['2–4', '5+'], vert=True)\n",
    "plt.title('Boxplot avg_revenue_per_order по группам')\n",
    "plt.ylabel('Средняя выручка с заказа, ₽')\n",
    "plt.tight_layout(); plt.show()\n",
    "\n",
    "# Сводная статистика\n",
    "def summarize(x):\n",
    "    return {\n",
    "        'count': int(len(x)),\n",
    "        'mean': float(np.mean(x)),\n",
    "        'median': float(np.median(x)),\n",
    "        'p25': float(np.quantile(x, 0.25)),\n",
    "        'p75': float(np.quantile(x, 0.75))\n",
    "    }\n",
    "\n",
    "sum_24 = summarize(grp_2_4)\n",
    "sum_5p = summarize(grp_5p)\n",
    "\n",
    "print(\"Сводка — 2–4 заказа:\", sum_24)\n",
    "print(\"Сводка — 5+ заказов:\", sum_5p)\n",
    "\n"
   ]
  },
  {
   "cell_type": "markdown",
   "id": "eb94b771-4c86-4b34-b017-82455318e29b",
   "metadata": {
    "id": "c3bc4897"
   },
   "source": [
    "Вывод:\n",
    "\n",
    "2–4 заказа\n",
    "IQR: 228.53–817.29 руб., медиана ≈ 476.99 руб., среднее ≈ 584.22 руб.\n",
    "\n",
    "5+ заказов\n",
    "IQR: 341.58–726.15 руб., медиана ≈ 522.66 руб., среднее ≈ 560.87 руб.\n",
    "\n",
    "Видим различия по значению средней выручки с заказа между пользователями этих двух групп.\n",
    "У группы 5+заказов медиана выше, а нижняя граница IQR заметно правее (341.6 руб. против 228.5 руб.). Это говорит, что «ядро» заказов у частых покупателей дороже.\n",
    "\n",
    "При этом среднее у группы 5+заказов ниже, чем у группы 2–4 заказа (560.9 руб. vs 584.2 руб.) — признак того, что у группы 2–4 встречается больше редких очень дорогих заказов (тяжёлый правый хвост), которые тянут среднее вверх.\n",
    "\n",
    "Итог: типичный чек (по медиане) выше у покупателей совершивших 5 и более заказов, но экстремально дорогие заказы чаще встречаются у группы 2–4 заказа."
   ]
  },
  {
   "cell_type": "markdown",
   "id": "26325867",
   "metadata": {},
   "source": [
    "<div style=\"border:solid #D3D3D3 2px;  border-radius: 10px; padding: 15px\">\n",
    "<h3> Комментарий ревьюера <a class=\"tocSkip\"></h3>\n",
    "<h4> Анализ взаимосвязи средней выручки и числа заказов <a class=\"tocSkip\"></h4>\n",
    "\n",
    "<div style=\"border-radius: 10px\" class=\"alert alert-success\">\n",
    "<b>Отлично ✅:</b> \n",
    "    \n",
    "* С этой задачей тоже справились! \n",
    "    \n",
    " \n",
    "* Плюсик за грамотное оформление графиков - заголовок, подписи осей, легенда, поправка на размер выборки (`density`), нормализация размера бинов. По выводом тоже все верно подмечено!\n",
    " \n",
    "</div>\n",
    "<div style=\"border-radius: 10px\" class=\"alert alert-warning\">\n",
    "<b>Рекомендации💡:</b>  \n",
    "    \n",
    "* Для формирования выборок можно было использовать ранее созданные признаки `is_two` и `is_five`. Если в `is_two` нолик - это пользователь с одним заказом, если единичка - заказов два и больше. При комбинации с `is_five` также можно было бы определить группу с 2-4 заказами - в `is_two` в таком случае будет единичка, а в `is_five` - нолик.\n",
    "    \n",
    "\n",
    "* В выводах, опять же, было бы неплохо попробовать объяснить, почему могут получаться именно такие резульаты?\n",
    "    \n",
    "</div>"
   ]
  },
  {
   "cell_type": "markdown",
   "id": "c40138c8",
   "metadata": {
    "id": "c40138c8"
   },
   "source": [
    "---\n",
    "\n",
    "**Задача 4.2.3.** Проанализируйте влияние среднего количества билетов в заказе на вероятность повторной покупки.\n",
    "\n",
    "- Изучите распределение пользователей по среднему количеству билетов в заказе (`avg_tickets_count`) и опишите основные наблюдения.\n",
    "- Разделите пользователей на несколько сегментов по среднему количеству билетов в заказе:\n",
    "    - от 1 до 2 билетов;\n",
    "    - от 2 до 3 билетов;\n",
    "    - от 3 до 5 билетов;\n",
    "    - от 5 и более билетов.\n",
    "- Для каждого сегмента подсчитайте общее число пользователей и долю пользователей, совершивших повторные заказы.\n",
    "- Ответьте на вопросы:\n",
    "    - Как распределены пользователи по сегментам — равномерно или сконцентрировано?\n",
    "    - Есть ли сегменты с аномально высокой или низкой долей повторных покупок?\n",
    "\n",
    "---"
   ]
  },
  {
   "cell_type": "code",
   "execution_count": null,
   "id": "3cff9697",
   "metadata": {
    "id": "3cff9697"
   },
   "outputs": [],
   "source": [
    "# Среднее число билетов и вероятность повтора \n",
    "# 1) Распределение avg_tickets_per_order\n",
    "desc = base['avg_tickets_per_order'].describe()\n",
    "print(\"Описательная статистика avg_tickets_per_order:\\n\", desc)\n",
    "\n",
    "plt.figure(figsize=(8,4))\n",
    "plt.hist(base['avg_tickets_per_order'].dropna(), bins=30, density=True, alpha=0.8)\n",
    "plt.title('Распределение avg_tickets_per_order')\n",
    "plt.xlabel('Среднее число билетов на заказ')\n",
    "plt.ylabel('Плотность')\n",
    "plt.tight_layout()\n",
    "plt.show()\n",
    "\n",
    "# 2) Сегментация по среднему числу билетов:\n",
    "#    [1, 2), [2, 3), [3, 5), [5, +∞)\n",
    "bins   = [1, 2, 3, 5, np.inf]\n",
    "labels = ['1–<2', '2–<3', '3–<5', '5+']\n",
    "\n",
    "base['tickets_segment'] = pd.cut(\n",
    "    base['avg_tickets_per_order'],\n",
    "    bins=bins, labels=labels, include_lowest=True, right=False\n",
    ")\n",
    "\n",
    "# 3) Таблица по сегментам: число пользователей, доля вернувшихся, доля сегмента\n",
    "overall_return = base['is_two'].mean()\n",
    "\n",
    "seg_tbl = (\n",
    "    base.groupby('tickets_segment', observed=True)\n",
    "        .agg(users=('user_id','nunique'),\n",
    "             repeaters=('is_two','sum'),\n",
    "             median_avg_tickets=('avg_tickets_per_order','median'))\n",
    "        .reset_index()\n",
    "        .sort_values('tickets_segment')\n",
    ")\n",
    "seg_tbl['return_rate'] = seg_tbl['repeaters'] / seg_tbl['users']\n",
    "seg_tbl['share'] = seg_tbl['users'] / base['user_id'].nunique()\n",
    "\n",
    "print(f\"Базовая доля возврата по выборке: {overall_return:.2%}\")\n",
    "display(seg_tbl[['tickets_segment','users','share','median_avg_tickets','return_rate']])\n",
    "\n",
    "# 4) Визуализация: доля вернувшихся по сегментам\n",
    "plt.figure(figsize=(8,4))\n",
    "plt.bar(seg_tbl['tickets_segment'].astype(str), seg_tbl['return_rate'])\n",
    "plt.axhline(overall_return, linestyle='--')  \n",
    "plt.title('Доля вернувшихся по сегментам avg_tickets_per_order')\n",
    "plt.xlabel('Сегмент по среднему числу билетов')\n",
    "plt.ylabel('Доля вернувшихся')\n",
    "plt.tight_layout()\n",
    "plt.show()\n"
   ]
  },
  {
   "cell_type": "markdown",
   "id": "025cc00a-3da6-4e70-b779-112fcc82456c",
   "metadata": {
    "id": "a6619674"
   },
   "source": [
    "1) Распределение пользователей по среднему количеству билетов в заказе :\n",
    "Центр распределения — 2–3 билета.\n",
    "Медиана 2.75, среднее 2.75 говорят о том,что основная масса пользователей покупает в среднем ≈2–3 билета.\n",
    "Распределение компактное.\n",
    "Стандартное отклонение 0.92 при диапазоне 1–6 говорит, что большинство значений лежит близко к центру, крайние значения встречаются редко.\n",
    "Присутствует некая «ступенчатость».\n",
    "Показатель формируется из целых покупок, поэтому плотность выше возле «круглых» уровней (например, ~2.0, ~2.5–3.0). Это нормально для средней по заказам метрики.\n",
    "Хвосты небольшие.\n",
    "Минимум 1 (есть пользователи, кто стабильно берет по одному билету), максимум 6 (редко). \n",
    "\n",
    "2) Как распределены пользователи по сегментам?\n",
    "Сильно сконцентрировано в середине:\n",
    "2–<3 билета — 43.7% пользователей (самый большой сегмент).\n",
    "3–<5 билетов — 41.95% пользователей.\n",
    "Итого ≈ 85.6% базы в двух средних сегментах.\n",
    "Крайние сегменты малы: 1–<2 — 11.24%, 5+ — 3.11%.\n",
    "\n",
    "3)\n",
    "Есть ли аномальные сегменты по доле повторных покупок?\n",
    "Базовая доля возврата: 61.36%.\n",
    "2–<3 билета — 73.29%  выше среднего и заметно, выглядит как «здоровая» точка вовлечения.\n",
    "3–<5 билетов — 54.81% ниже среднего при очень большой доле пользователей.\n",
    "1–<2 билета — 51.24% ниже среднего.\n",
    "5+ билетов — 18.51% аномально низко (но сегмент маленький — 3.11%, оценка может быть нестабильной, однако провал существенный).\n",
    "\n",
    "Вывод: пользователи со средним размером заказа 2–<3 билета возвращаются значительно чаще, чем в среднем по выборке. Крайние сегменты (особенно 5+) демонстрируют очень низкий возврат."
   ]
  },
  {
   "cell_type": "markdown",
   "id": "a408b589",
   "metadata": {},
   "source": [
    "<div style=\"border:solid #D3D3D3 2px;  border-radius: 10px; padding: 15px\">\n",
    "<h3> Комментарий ревьюера <a class=\"tocSkip\"></h3>\n",
    "<h4> Анализ взаимосвязи количества билетов в заказе и возвращаемости <a class=\"tocSkip\"></h4>\n",
    "\n",
    "<div style=\"border-radius: 10px\" class=\"alert alert-success\">\n",
    "<b>Отлично ✅:</b> \n",
    "    \n",
    "* Здесь тоже все корректно посчитано! Выводы верные!\n",
    "    \n",
    "    \n",
    "* Здорово, что используешь удобный метод `pd.cut` и корректно настраиваешь параметры, чтобы включалась левая граница и исключалась правая.\n",
    "\n",
    "</div>\n",
    "<div style=\"border-radius: 10px\" class=\"alert alert-warning\">\n",
    "<b>Рекомендации💡:</b> Опять же, можно порассуждать, почему получились именно такие результаты. Это может быть полезно в плане развития стратегий по привлечению пользователей.\n",
    "\n",
    "</div>"
   ]
  },
  {
   "cell_type": "markdown",
   "id": "417e222d",
   "metadata": {
    "id": "417e222d"
   },
   "source": [
    "---\n",
    "\n",
    "#### 4.3. Исследование временных характеристик первого заказа и их влияния на повторные покупки\n",
    "\n",
    "Изучите временные параметры, связанные с первым заказом пользователей:\n",
    "\n",
    "- день недели первой покупки;\n",
    "- время с момента первой покупки — лайфтайм;\n",
    "- средний интервал между покупками пользователей с повторными заказами.\n",
    "\n",
    "---\n",
    "\n",
    "**Задача 4.3.1.** Проанализируйте, как день недели, в которой была совершена первая покупка, влияет на поведение пользователей.\n",
    "\n",
    "- По данным даты первого заказа выделите день недели.\n",
    "- Для каждого дня недели подсчитайте общее число пользователей и долю пользователей, совершивших повторные заказы. Результаты визуализируйте.\n",
    "- Ответьте на вопрос: влияет ли день недели, в которую совершена первая покупка, на вероятность возврата клиента?\n",
    "\n",
    "---\n"
   ]
  },
  {
   "cell_type": "code",
   "execution_count": null,
   "id": "1709f7ff",
   "metadata": {
    "id": "1709f7ff"
   },
   "outputs": [],
   "source": [
    "# 1) День недели первой покупки (0=Пн ... 6=Вс)\n",
    "weekday_order = ['Пн', 'Вт', 'Ср', 'Чт', 'Пт', 'Сб', 'Вс']\n",
    "base['first_order_dow_num'] = base['first_order_ts'].dt.dayofweek\n",
    "base['first_order_dow'] = base['first_order_dow_num'].map({\n",
    "    0:'Пн', 1:'Вт', 2:'Ср', 3:'Чт', 4:'Пт', 5:'Сб', 6:'Вс'\n",
    "})\n",
    "# сделаем упорядоченную категорию, чтобы графики шли по дням\n",
    "base['first_order_dow'] = pd.Categorical(base['first_order_dow'], categories=weekday_order, ordered=True)\n",
    "\n",
    "# 2) Агрегация: количество пользователей и доля вернувшихся\n",
    "dow_stats = (\n",
    "    base\n",
    "    .groupby('first_order_dow', observed=True)\n",
    "    .agg(\n",
    "        users=('user_id', 'nunique'),\n",
    "        repeaters=('is_two', 'sum')\n",
    "    )\n",
    "    .reset_index()\n",
    "    .sort_values('first_order_dow')\n",
    ")\n",
    "dow_stats['return_rate'] = dow_stats['repeaters'] / dow_stats['users']\n",
    "dow_stats['share'] = dow_stats['users'] / base['user_id'].nunique()\n",
    "\n",
    "display(dow_stats)\n",
    "\n",
    "# 3) Визуализация: \n",
    "fig, axes = plt.subplots(1, 2, figsize=(12, 4))\n",
    "\n",
    "# Количество пользователей\n",
    "axes[0].bar(dow_stats['first_order_dow'].astype(str), dow_stats['users'])\n",
    "axes[0].set_title('Число пользователей по дню недели первой покупки')\n",
    "axes[0].set_xlabel('День недели'); axes[0].set_ylabel('Пользователи')\n",
    "\n",
    "# Доля вернувшихся\n",
    "axes[1].bar(dow_stats['first_order_dow'].astype(str), dow_stats['return_rate'])\n",
    "axes[1].axhline(overall_return, linestyle='--')  # средняя по выборке\n",
    "axes[1].set_title('Доля вернувшихся (is_two) по дню недели')\n",
    "axes[1].set_xlabel('День недели'); axes[1].set_ylabel('Доля вернувшихся')\n",
    "\n",
    "plt.tight_layout()\n",
    "plt.show()\n",
    "\n",
    "print(f\"Базовая доля возврата по выборке: {overall_return:.2%}\")\n"
   ]
  },
  {
   "cell_type": "markdown",
   "id": "69183115-af4d-4b40-bde9-fc90680cd7d3",
   "metadata": {
    "id": "d7ea10ee"
   },
   "source": [
    "Наблюдаем, что количество пользователей совершивших первую покупку в субботу наибольшее, далее пятница и четверг. \n",
    "\n",
    "Что видно по долям возврата (средняя по выборке — 61.36%):\n",
    "\n",
    "Выше среднего: Пн 63.0%, Сб 62.7%, Ср 62.0%, Вт 61.5%.\n",
    "\n",
    "Ниже среднего: Чт 59.9%, Пт 60.1%, Вс 60.3%.\n",
    "\n",
    "Диапазон значений — от 59.9% (Чт) до 63.0% (Пн). Разброс умеренный, а доли пользователей по дням довольно схожи (≈13–15%), поэтому различия не выглядят случайными, но и эффект небольшой.\n",
    "\n",
    "Вывод: день недели первой покупки слегка влияет на возврат — лучше всего выглядят понедельник/суббота. Для практики это скорее «тонкая настройка» коммуникаций, чем ключевой рычаг."
   ]
  },
  {
   "cell_type": "markdown",
   "id": "bd3966c9",
   "metadata": {},
   "source": [
    "<div style=\"border:solid #D3D3D3 2px;  border-radius: 10px; padding: 15px\">\n",
    "<h3> Комментарий ревьюера <a class=\"tocSkip\"></h3>\n",
    "<h4> Анализ возвращаемости по дням недели  <a class=\"tocSkip\"></h4>\n",
    "\n",
    "<div style=\"border-radius: 10px\" class=\"alert alert-success\">\n",
    "<b>Отлично ✅:</b> Здесь тоже все супер! Различия по дням недели, действительно, наблюдаеются, хотя и не очень заметные. Чтобы судить более однозначно, было бы неплохо сопроводить сравнение оценкой стат. значимости. Это будет изучаться далее на курсе.\n",
    "\n",
    "</div>\n",
    "<div style=\"border-radius: 10px\" class=\"alert alert-warning\">\n",
    "<b>Рекомендации💡:</b> \n",
    "    \n",
    "* Можно брать не индекс дня недели, а сразу наименование: `df['first_order_dt'].dt.day_name()`.\n",
    "    \n",
    "    \n",
    "* В выводах было бы неплохо также предположить, почему в топ и антитоп выбиваются определенные дни недели? Какие суждения относительно этого можно выстроить?\n",
    "\n",
    "</div>"
   ]
  },
  {
   "cell_type": "markdown",
   "id": "71d4e4b4",
   "metadata": {
    "id": "71d4e4b4"
   },
   "source": [
    "---\n",
    "\n",
    "**Задача 4.3.2.** Изучите, как средний интервал между заказами влияет на удержание клиентов.\n",
    "\n",
    "- Рассчитайте среднее время между заказами для двух групп пользователей:\n",
    "    - совершившие 2–4 заказа;\n",
    "    - совершившие 5 и более заказов.\n",
    "- Исследуйте, как средний интервал между заказами влияет на вероятность повторного заказа, и сделайте выводы.\n",
    "\n",
    "---\n"
   ]
  },
  {
   "cell_type": "code",
   "execution_count": null,
   "id": "f1471104",
   "metadata": {
    "id": "f1471104"
   },
   "outputs": [],
   "source": [
    "# Отбор групп \n",
    "grp_24 = base[(base[\"total_orders\"] >= 2) & (base[\"total_orders\"] <= 4)][\"mean_days_between_orders\"].dropna()\n",
    "grp_5p = base[base[\"total_orders\"] >= 5][\"mean_days_between_orders\"].dropna()\n",
    "\n",
    "# Средние значения с округлением\n",
    "print(\"Средний интервал (дни) 2–4:\", round(np.mean(grp_24), 2))\n",
    "print(\"Средний интервал (дни) 5+ :\", round(np.mean(grp_5p), 2))\n",
    "\n",
    "# Гистограммы распределения\n",
    "plt.figure(figsize=(8, 4))\n",
    "plt.hist(grp_24, bins=30, alpha=0.5, density=True, label=\"2–4 заказа\")\n",
    "plt.hist(grp_5p, bins=30, alpha=0.5, density=True, label=\"5+ заказов\")\n",
    "plt.title(\"Распределение среднего интервала между заказами (дни)\")\n",
    "plt.xlabel(\"Средний интервал между заказами, дней\")\n",
    "plt.ylabel(\"Доля пользователей\")\n",
    "plt.legend()\n",
    "plt.tight_layout()\n",
    "plt.show()"
   ]
  },
  {
   "cell_type": "markdown",
   "id": "fcd139ba-11c5-4fbc-a1a9-7da7f4fd2466",
   "metadata": {},
   "source": [
    "Вывод\n",
    "\n",
    "У пользователей совершивших 2–4 заказа средний интервал между покупками составляет в среднем 21,46 дня. У пользователей с 5 и более заказами\n",
    "средний интервал 9,95 дня.\n",
    "\n",
    "Пользователи, которые совершают больше заказов (5 +), делают это чаще — интервалы между их покупками короче. Это говорит о том, что чем меньше среднее время между заказами, тем выше удержание клиента.\n",
    "Иными словами, частота покупок прямо связана с лояльностью и вовлечённостью: чем активнее пользователь взаимодействует с сервисом, тем выше вероятность, что он вернётся снова."
   ]
  },
  {
   "cell_type": "markdown",
   "id": "f22371a0",
   "metadata": {},
   "source": [
    "<div style=\"border:solid #D3D3D3 2px;  border-radius: 10px; padding: 15px\">\n",
    "<h3> Комментарий ревьюера <a class=\"tocSkip\"></h3>\n",
    "<h4> Анализ возвращаемости по количеству дней между заказами <a class=\"tocSkip\"></h4>\n",
    "\n",
    "<div style=\"border-radius: 10px\" class=\"alert alert-success\">\n",
    "<b>Отлично ✅:</b> По расчетам все верно!\n",
    "    \n",
    "</div>\n",
    "<div style=\"border-radius: 10px\" class=\"alert alert-warning\">\n",
    "<b>Рекомендации💡:</b> \n",
    "    \n",
    "* Здесь опять же можно было удобно использовать признаки `is_two`и `is_five`, а также зациклить потсроение гистрограмм.\n",
    "    \n",
    "   \n",
    "* Особенно важно в данном случае настроить единый размер бинов. Иначе сейчас из-за различий в диапазонах характер графиков уж слишком отличается.\n",
    "\n",
    "\n",
    "</div>"
   ]
  },
  {
   "cell_type": "markdown",
   "id": "eb26eac5",
   "metadata": {
    "id": "eb26eac5"
   },
   "source": [
    "---\n",
    "\n",
    "#### 4.4. Корреляционный анализ количества покупок и признаков пользователя\n",
    "\n",
    "Изучите, какие характеристики первого заказа и профиля пользователя могут быть связаны с числом покупок. Для этого используйте универсальный коэффициент корреляции `phi_k`, который позволяет анализировать как числовые, так и категориальные признаки.\n",
    "\n",
    "---\n",
    "\n",
    "**Задача 4.4.1:** Проведите корреляционный анализ:\n",
    "- Рассчитайте коэффициент корреляции `phi_k` между признаками профиля пользователя и числом заказов (`total_orders`). При необходимости используйте параметр `interval_cols` для определения интервальных данных.\n",
    "- Проанализируйте полученные результаты. Если полученные значения будут близки к нулю, проверьте разброс данных в `total_orders`. Такое возможно, когда в данных преобладает одно значение: в таком случае корреляционный анализ может показать отсутствие связей. Чтобы этого избежать, выделите сегменты пользователей по полю `total_orders`, а затем повторите корреляционный анализ. Выделите такие сегменты:\n",
    "    - 1 заказ;\n",
    "    - от 2 до 4 заказов;\n",
    "    - от 5 и выше.\n",
    "- Визуализируйте результат корреляции с помощью тепловой карты.\n",
    "- Ответьте на вопрос: какие признаки наиболее связаны с количеством заказов?\n",
    "\n",
    "---"
   ]
  },
  {
   "cell_type": "code",
   "execution_count": null,
   "id": "d2ca7ee0",
   "metadata": {
    "id": "d2ca7ee0"
   },
   "outputs": [],
   "source": [
    "corr_df = base[[\n",
    "    \"total_orders\",\"avg_revenue_per_order\",\"avg_tickets_per_order\",\"mean_days_between_orders\",\n",
    "    \"first_event_type\",\"first_device\",\"first_region\"\n",
    "]].copy()\n",
    "\n",
    "phik_mat = corr_df.phik_matrix(interval_cols=[\"avg_revenue_per_order\",\"avg_tickets_per_order\",\"mean_days_between_orders\"])\n",
    "display(phik_mat[\"total_orders\"].sort_values(ascending=False))\n",
    "\n",
    "plt.figure()\n",
    "ax = plot_correlation_matrix(\n",
    "    phik_mat.values,\n",
    "    x_labels=phik_mat.columns,\n",
    "    y_labels=phik_mat.index,\n",
    "    vmin=0, vmax=1, color_map=None, figsize=(8,6)\n",
    ")\n",
    "plt.title(\"phi_k корреляции с total_orders\")\n",
    "plt.tight_layout(); plt.show()\n"
   ]
  },
  {
   "cell_type": "markdown",
   "id": "17e0937d-6a5e-4b6c-818b-b40c956d7a1c",
   "metadata": {
    "id": "669ae228"
   },
   "source": [
    "Вывод:Наибольшее влияние на количество заказов оказывают среднее число билетов в заказе(0.541006) и интервал между покупками (0.494849) — пользователи, покупающие больше билетов и совершающие заказы чаще, демонстрируют более высокую вовлечённость. Эти метрики отражают активность и лояльность аудитории: чем короче паузы между покупками и крупнее заказы, тем выше частота обращений к сервису.\n",
    "Регион и средний чек влияют умеренно, а устройство и тип первого события практически не связаны с количеством заказов."
   ]
  },
  {
   "cell_type": "markdown",
   "id": "f7cabbf6",
   "metadata": {},
   "source": [
    "<div style=\"border:solid #D3D3D3 2px;  border-radius: 10px; padding: 15px\">\n",
    "<h3> Комментарий ревьюера <a class=\"tocSkip\"></h3>\n",
    "<h4> Анализ корреляции <a class=\"tocSkip\"></h4>\n",
    "\n",
    "<div style=\"border-radius: 10px\" class=\"alert alert-success\">\n",
    "<b>Отлично ✅:</b> С этим заданием тоже справились! Действительно, поведение клиентов во времени и количество билетов важнее для объяснения повторных покупок, чем, к примеру их выбор на первом заказе, что в целом логично (не так важно, на что пошел пользователь в первый раз, сколько общий его характер посещения досуговых мероприятий). \n",
    "\n",
    "</div>\n",
    "<div style=\"border-radius: 10px\" class=\"alert alert-warning\">\n",
    "<b>Рекомендации💡:</b> \n",
    "\n",
    "    \n",
    "* Мы не получили для `orders_count` нулевых корреляций, но ради эксперимента все же можно было бы проверить, насколько сильно поменяются оценки, если сбалансировать разбиение на интервалы.\n",
    "    \n",
    "    \n",
    "* Расцветку для тепловой карты имеет смысл выбирать трехцветную, если диапазон возможных значений от -1 до 1 (например, синий, белый, красный, белый при этом в нуле), или двухцветную, если от 0 до 1 (в 0 - белый, в 1 - красный). Поскольку на 0 будет нейтральный цвет, величину корреляции можно будет воспринимать через интенсивность цвета, а по самому цвету - положительная она или отрицательная.\n",
    "\n",
    "    \n",
    "* Было бы неплохо провести параллель с нашими предыдущими шагами анализа.\n",
    "\n",
    "\n",
    "</div>\n"
   ]
  },
  {
   "cell_type": "markdown",
   "id": "e7c496e9",
   "metadata": {
    "id": "e7c496e9"
   },
   "source": [
    "### 5. Общий вывод и рекомендации\n",
    "\n",
    "В конце проекта напишите общий вывод и рекомендации: расскажите заказчику, на что нужно обратить внимание. В выводах кратко укажите:\n",
    "\n",
    "- **Информацию о данных**, с которыми вы работали, и то, как они были подготовлены: например, расскажите о фильтрации данных, переводе тенге в рубли, фильтрации выбросов.\n",
    "- **Основные результаты анализа.** Например, укажите:\n",
    "    - Сколько пользователей в выборке? Как распределены пользователи по числу заказов? Какие ещё статистические показатели вы подсчитали важным во время изучения данных?\n",
    "    - Какие признаки первого заказа связаны с возвратом пользователей?\n",
    "    - Как связаны средняя выручка и количество билетов в заказе с вероятностью повторных покупок?\n",
    "    - Какие временные характеристики влияют на удержание (день недели, интервалы между покупками)?\n",
    "    - Какие характеристики первого заказа и профиля пользователя могут быть связаны с числом покупок согласно результатам корреляционного анализа?\n",
    "- Дополните выводы информацией, которая покажется вам важной и интересной. Следите за общим объёмом выводов — они должны быть компактными и ёмкими.\n",
    "\n",
    "В конце предложите заказчику рекомендации о том, как именно действовать в его ситуации. Например, укажите, на какие сегменты пользователей стоит обратить внимание в первую очередь, а какие нуждаются в дополнительных маркетинговых усилиях."
   ]
  },
  {
   "cell_type": "markdown",
   "id": "813bf281-850d-40ad-b715-572a07765622",
   "metadata": {},
   "source": [
    "## Общий вывод и рекомендации:\n",
    "\n",
    "В анализе использованы данные о заказах пользователей Яндекс.Афиши.\n",
    "Данные были очищены: выручка приведена к рублям, удалены выбросы по 99-му перцентилю, типы данных оптимизированы. В итоговой выборке — ≈21,7 тыс. пользователей.\n",
    "\n",
    "Основные результаты:\n",
    "\n",
    "62% пользователей совершают повторные заказы, 29% — 5 и более заказов.\n",
    "\n",
    "Средняя выручка с заказа — ≈575 ₽, среднее число билетов — 2,7.\n",
    "\n",
    "Возвраты выше у пользователей, впервые купивших билеты в театр, с desktop-устройств, и в крупных регионах(Североярская обл.,Широковская обл.,Каменевский регион).\n",
    "\n",
    "Пользователи с заказом 2–3 билета чаще возвращаются; при заказе 5+ билетов вероятность возврата резко падает.\n",
    "\n",
    "Более короткие интервалы между покупками связаны с большей лояльностью.\n",
    "\n",
    "День недели первой покупки влияет слабо (чуть выше возврат в пн/сб).\n",
    "\n",
    "Корреляции: с количеством заказов сильнее всего связаны среднее число билетов (φₖ≈0.54) и интервал между заказами (φₖ≈0.49).\n",
    "\n",
    "Рекомендации:\n",
    "\n",
    "Основное внимание направить на ключевой сегмент — пользователей с 2–3 билетами в заказе и короткими интервалами между заказами.В рамках CRM-кампаний напоминать пользователям о повторной покупке через 7–10 дней после последнего заказа, когда вероятность возврата максимальна. Улучшить мобильный пользовательский опыт и развивать программы лояльности, стимулирующие повторные заказы. Фокусировать маркетинг на отстающих регионах. Не фокусироваться на типе первого события и типе устройства — их влияние на количество заказов минимально.\n"
   ]
  },
  {
   "cell_type": "markdown",
   "id": "29e161b6",
   "metadata": {},
   "source": [
    "<div style=\"border:solid #D3D3D3 2px;  border-radius: 10px; padding: 15px\">\n",
    "<h3> Комментарий ревьюера <a class=\"tocSkip\"></h3>\n",
    "<h4> Итоговые выводы <a class=\"tocSkip\"></h4>\n",
    "\n",
    "<div style=\"border-radius: 10px\" class=\"alert alert-success\">\n",
    "<b>Отлично ✅:</b> С задачей справились! Все ключевые моменты отражены, что позволяет быстро ознакомиться с процессом работы и результатом, не вдаваясь в технический детали. Здорово, что завершаешь проект рекомендациями, основанные на выявленных закономерностях. Предложенные рекомендации логично следуют из анализа и могут быть непосредственно реализованы в маркетинговых стратегиях подогревания и удержания. \n",
    "\n",
    "</div>"
   ]
  },
  {
   "cell_type": "markdown",
   "id": "R8WPcqKyqW6Z",
   "metadata": {
    "id": "R8WPcqKyqW6Z"
   },
   "source": [
    "### 6. Финализация проекта и публикация в Git\n",
    "\n",
    "Когда вы закончите анализировать данные, оформите проект, а затем опубликуйте его.\n",
    "\n",
    "Выполните следующие действия:\n",
    "\n",
    "1. Создайте файл `.gitignore`. Добавьте в него все временные и чувствительные файлы, которые не должны попасть в репозиторий.\n",
    "2. Сформируйте файл `requirements.txt`. Зафиксируйте все библиотеки, которые вы использовали в проекте.\n",
    "3. Вынести все чувствительные данные (параметры подключения к базе) в `.env`файл.\n",
    "4. Проверьте, что проект запускается и воспроизводим.\n",
    "5. Загрузите проект в публичный репозиторий — например, на GitHub. Убедитесь, что все нужные файлы находятся в репозитории, исключая те, что в `.gitignore`. Ссылка на репозиторий понадобится для отправки проекта на проверку. Вставьте её в шаблон проекта в тетрадке Jupyter Notebook перед отправкой проекта на ревью."
   ]
  },
  {
   "cell_type": "markdown",
   "id": "xMijfOFruLHQ",
   "metadata": {
    "id": "xMijfOFruLHQ"
   },
   "source": [
    "**Вставьте ссылку на проект в этой ячейке тетрадки перед отправкой проекта на ревью.**\n",
    "\n",
    "https://github.com/KseniiaKulinich/Ksu"
   ]
  },
  {
   "cell_type": "markdown",
   "id": "78119b9d",
   "metadata": {},
   "source": [
    "<div style=\"border:solid #D3D3D3 2px;  border-radius: 10px; padding: 15px\">\n",
    "<h3> Комментарий ревьюера <a class=\"tocSkip\"></h3>\n",
    "<h4> Публикация в Git <a class=\"tocSkip\"></h4>\n",
    "\n",
    "<div style=\"border-radius: 10px\" class=\"alert alert-success\">\n",
    "<b>Отлично ✅:</b> По ссылке есть все необходимые данные. Отличная работа! \n",
    "\n",
    "</div>\n",
    "    \n",
    "<div style=\"border-radius: 10px\" class=\"alert alert-block alert-danger\">\n",
    "<b>Нужно доработать ❌:</b> Не забудь обновить файл с проектом, после того, как засекретишь подключение к БД.\n",
    "</div>\n",
    "<div style=\"border-radius: 10px\" class=\"alert alert-warning\">\n",
    "<b>Рекомендации💡:</b> \n",
    "    \n",
    "* Лучше добавить `.idea` в `.gitignore`, потому что эти файлы хранят личные настройки IDE и могут вызывать конфликты или засорять репозиторий.\n",
    "\n",
    "    \n",
    "* Можно заполнить readme полезной информацией о проекте, зафиксировать цели, указать ключевые моменты и полученные выводы.\n",
    "\n",
    "</div>"
   ]
  },
  {
   "cell_type": "markdown",
   "id": "635ec4c4",
   "metadata": {},
   "source": [
    "<div style=\"border:solid Green 2px; border-radius: 10px;  padding: 40px\">\n",
    "<h3>Общий вывод по проекту <a class=\"tocSkip\"></h3>\n",
    "    \n",
    "Ксения, спасибо за твой проект! У тебя хорошая работа! В тебе виден будущий профессионал своего дела :) Однако есть еще моменты, которые требуют твоего внимания. Кратко пройдусь по впечатлениям. \n",
    "    \n",
    "**Полнота:** все требуемые задачи были выполнены!\n",
    "    \n",
    "**Корректность:** \n",
    "   \n",
    "* <span style=\"color:Red;\">Необходимо убрать ключи для подключения к БД из описания задания, чтобы не скомпромитировать явки и пароли. Не забываем обновить файл в Git.</span>\n",
    "* <span style=\"color:Red;\">Необходимо расширить предобработку данных. Проверка на дубликаты - важный этап предобработки по умолчанию.</span>\n",
    "* <span style=\"color:Red;\">Необходимо скорректировать конвертацию в рубли. Курс мог сильно колебаться, важно учитывать его в соответствии с врменем.</span>\n",
    "    \n",
    "**Аналитическая проницательность:** ты верно подмечаешь все ключевые нюансы данных, даешь дельные рекомендации! Местами можно чуть углубить суждения, фиксировать не только то, что наблюдаем, но и предполагать, почему получилось именно так.\n",
    "    \n",
    "**Эффективность кода:** по этому критерию в целом тоже все супер! В некоторых местах можно использовать чуть более удобные и компактные методы, зациклить повторяющиеся действия.\n",
    "    \n",
    "**Оформление:** им тоже важно не пренебрегать! Оформление тесно связано с удобством восприятия предоставляемой информации и созданием впечатления о работе. Твоя работа в целом довольно аккуратная - выделены разделы, грамотно оформлены графики, код сопровождается краткими комментариями, но еще есть некоторый потенциал для улучшений. К примеру, добавить вводную часть, раскрывающую суть проекта, расставить акценты в выводах через форматирование.\n",
    "    \n",
    "**Желаю удачи и жду твой проект на повторное ревью!**😉\n",
    "    \n",
    "<img src=\"https://99px.ru/sstorage/86/2015/12/image_86271215043043632690.gif\" />"
   ]
  },
  {
   "cell_type": "code",
   "execution_count": null,
   "id": "67d4c804",
   "metadata": {},
   "outputs": [],
   "source": []
  }
 ],
 "metadata": {
  "ExecuteTimeLog": [
   {
    "duration": 58,
    "start_time": "2025-10-26T12:08:17.628Z"
   },
   {
    "duration": 6503,
    "start_time": "2025-10-26T12:09:10.167Z"
   },
   {
    "duration": 100205,
    "start_time": "2025-10-26T12:09:16.673Z"
   },
   {
    "duration": 261,
    "start_time": "2025-10-26T12:10:56.880Z"
   },
   {
    "duration": 3,
    "start_time": "2025-10-26T12:10:57.143Z"
   },
   {
    "duration": 118,
    "start_time": "2025-10-26T12:10:57.148Z"
   },
   {
    "duration": 3,
    "start_time": "2025-10-26T12:13:21.087Z"
   },
   {
    "duration": 957,
    "start_time": "2025-10-26T12:13:22.601Z"
   },
   {
    "duration": 6,
    "start_time": "2025-10-26T12:18:35.498Z"
   },
   {
    "duration": 10,
    "start_time": "2025-10-26T12:18:58.264Z"
   },
   {
    "duration": 11,
    "start_time": "2025-10-26T12:19:33.828Z"
   },
   {
    "duration": 15,
    "start_time": "2025-10-26T12:20:58.395Z"
   },
   {
    "duration": 778,
    "start_time": "2025-10-26T12:32:07.825Z"
   },
   {
    "duration": 1416,
    "start_time": "2025-10-26T12:32:25.369Z"
   },
   {
    "duration": 747,
    "start_time": "2025-10-26T12:32:45.871Z"
   },
   {
    "duration": 1268,
    "start_time": "2025-10-26T12:34:06.565Z"
   },
   {
    "duration": 622,
    "start_time": "2025-10-26T13:07:18.283Z"
   },
   {
    "duration": 602,
    "start_time": "2025-10-26T13:08:57.209Z"
   },
   {
    "duration": 617,
    "start_time": "2025-10-26T13:09:27.462Z"
   },
   {
    "duration": 672,
    "start_time": "2025-10-26T13:09:55.580Z"
   },
   {
    "duration": 1407,
    "start_time": "2025-10-26T13:11:50.007Z"
   },
   {
    "duration": 686,
    "start_time": "2025-10-26T13:14:07.931Z"
   },
   {
    "duration": 690,
    "start_time": "2025-10-26T13:17:46.246Z"
   },
   {
    "duration": 739,
    "start_time": "2025-10-26T13:18:02.277Z"
   },
   {
    "duration": 729,
    "start_time": "2025-10-26T13:19:55.652Z"
   },
   {
    "duration": 790,
    "start_time": "2025-10-26T13:21:00.099Z"
   },
   {
    "duration": 724,
    "start_time": "2025-10-26T13:21:29.140Z"
   },
   {
    "duration": 768,
    "start_time": "2025-10-26T13:21:37.792Z"
   },
   {
    "duration": 734,
    "start_time": "2025-10-26T13:24:36.347Z"
   },
   {
    "duration": 762,
    "start_time": "2025-10-26T13:25:39.662Z"
   },
   {
    "duration": 781,
    "start_time": "2025-10-26T13:26:03.488Z"
   },
   {
    "duration": 1526,
    "start_time": "2025-10-26T13:27:50.474Z"
   },
   {
    "duration": 10,
    "start_time": "2025-10-26T13:33:05.214Z"
   },
   {
    "duration": 5323,
    "start_time": "2025-10-26T13:33:20.301Z"
   },
   {
    "duration": 4786,
    "start_time": "2025-10-26T13:33:25.627Z"
   },
   {
    "duration": 275,
    "start_time": "2025-10-26T13:33:30.415Z"
   },
   {
    "duration": 3,
    "start_time": "2025-10-26T13:33:30.692Z"
   },
   {
    "duration": 951,
    "start_time": "2025-10-26T13:33:30.697Z"
   },
   {
    "duration": 11,
    "start_time": "2025-10-26T13:33:31.650Z"
   },
   {
    "duration": 302,
    "start_time": "2025-10-26T13:33:31.663Z"
   },
   {
    "duration": 37,
    "start_time": "2025-10-26T13:33:31.967Z"
   },
   {
    "duration": 1449,
    "start_time": "2025-10-26T13:33:32.007Z"
   },
   {
    "duration": 64,
    "start_time": "2025-10-26T13:33:33.459Z"
   },
   {
    "duration": 7070,
    "start_time": "2025-10-26T13:33:33.540Z"
   },
   {
    "duration": 116,
    "start_time": "2025-10-26T13:33:40.612Z"
   },
   {
    "duration": 278,
    "start_time": "2025-10-26T13:33:40.730Z"
   },
   {
    "duration": 369,
    "start_time": "2025-10-26T13:33:41.010Z"
   },
   {
    "duration": 986,
    "start_time": "2025-10-26T13:34:01.715Z"
   },
   {
    "duration": 750,
    "start_time": "2025-10-26T13:34:38.237Z"
   },
   {
    "duration": 356,
    "start_time": "2025-10-26T13:35:14.199Z"
   },
   {
    "duration": 793,
    "start_time": "2025-10-26T13:35:15.380Z"
   },
   {
    "duration": 722,
    "start_time": "2025-10-26T13:35:38.796Z"
   },
   {
    "duration": 8849,
    "start_time": "2025-10-26T13:59:15.016Z"
   },
   {
    "duration": 1601,
    "start_time": "2025-10-26T13:59:23.868Z"
   },
   {
    "duration": 0,
    "start_time": "2025-10-26T13:59:25.473Z"
   },
   {
    "duration": 0,
    "start_time": "2025-10-26T13:59:25.475Z"
   },
   {
    "duration": 0,
    "start_time": "2025-10-26T13:59:25.477Z"
   },
   {
    "duration": 0,
    "start_time": "2025-10-26T13:59:25.479Z"
   },
   {
    "duration": 0,
    "start_time": "2025-10-26T13:59:25.480Z"
   },
   {
    "duration": 1,
    "start_time": "2025-10-26T13:59:25.482Z"
   },
   {
    "duration": 0,
    "start_time": "2025-10-26T13:59:25.484Z"
   },
   {
    "duration": 0,
    "start_time": "2025-10-26T13:59:25.486Z"
   },
   {
    "duration": 0,
    "start_time": "2025-10-26T13:59:25.487Z"
   },
   {
    "duration": 0,
    "start_time": "2025-10-26T13:59:25.488Z"
   },
   {
    "duration": 0,
    "start_time": "2025-10-26T13:59:25.489Z"
   },
   {
    "duration": 0,
    "start_time": "2025-10-26T13:59:25.490Z"
   },
   {
    "duration": 0,
    "start_time": "2025-10-26T13:59:25.491Z"
   },
   {
    "duration": 0,
    "start_time": "2025-10-26T13:59:25.492Z"
   },
   {
    "duration": 0,
    "start_time": "2025-10-26T13:59:25.494Z"
   },
   {
    "duration": 0,
    "start_time": "2025-10-26T13:59:25.495Z"
   },
   {
    "duration": 0,
    "start_time": "2025-10-26T13:59:25.496Z"
   },
   {
    "duration": 0,
    "start_time": "2025-10-26T13:59:25.497Z"
   },
   {
    "duration": 0,
    "start_time": "2025-10-26T13:59:25.499Z"
   },
   {
    "duration": 0,
    "start_time": "2025-10-26T13:59:25.500Z"
   },
   {
    "duration": 0,
    "start_time": "2025-10-26T13:59:25.501Z"
   },
   {
    "duration": 0,
    "start_time": "2025-10-26T13:59:25.503Z"
   },
   {
    "duration": 0,
    "start_time": "2025-10-26T13:59:25.504Z"
   },
   {
    "duration": 0,
    "start_time": "2025-10-26T13:59:25.505Z"
   },
   {
    "duration": 0,
    "start_time": "2025-10-26T13:59:25.506Z"
   },
   {
    "duration": 0,
    "start_time": "2025-10-26T13:59:25.540Z"
   },
   {
    "duration": 0,
    "start_time": "2025-10-26T13:59:25.541Z"
   },
   {
    "duration": 0,
    "start_time": "2025-10-26T13:59:25.543Z"
   },
   {
    "duration": 0,
    "start_time": "2025-10-26T13:59:25.544Z"
   },
   {
    "duration": 0,
    "start_time": "2025-10-26T13:59:25.546Z"
   },
   {
    "duration": 164,
    "start_time": "2025-10-26T14:01:23.205Z"
   },
   {
    "duration": 188,
    "start_time": "2025-10-26T14:01:29.216Z"
   },
   {
    "duration": 167,
    "start_time": "2025-10-26T14:02:32.698Z"
   },
   {
    "duration": 142,
    "start_time": "2025-10-26T14:03:10.586Z"
   },
   {
    "duration": 190,
    "start_time": "2025-10-26T14:04:30.253Z"
   },
   {
    "duration": 8078,
    "start_time": "2025-10-26T14:11:49.540Z"
   },
   {
    "duration": 115069,
    "start_time": "2025-10-26T14:11:57.621Z"
   },
   {
    "duration": 236,
    "start_time": "2025-10-26T14:13:52.692Z"
   },
   {
    "duration": 13,
    "start_time": "2025-10-26T14:13:52.930Z"
   },
   {
    "duration": 949,
    "start_time": "2025-10-26T14:13:52.946Z"
   },
   {
    "duration": 15,
    "start_time": "2025-10-26T14:13:53.897Z"
   },
   {
    "duration": 282,
    "start_time": "2025-10-26T14:13:53.915Z"
   },
   {
    "duration": 54,
    "start_time": "2025-10-26T14:13:54.199Z"
   },
   {
    "duration": 1254,
    "start_time": "2025-10-26T14:13:54.255Z"
   },
   {
    "duration": 72,
    "start_time": "2025-10-26T14:13:55.511Z"
   },
   {
    "duration": 7324,
    "start_time": "2025-10-26T14:13:55.585Z"
   },
   {
    "duration": 90,
    "start_time": "2025-10-26T14:14:02.911Z"
   },
   {
    "duration": 446,
    "start_time": "2025-10-26T14:14:03.003Z"
   },
   {
    "duration": 373,
    "start_time": "2025-10-26T14:14:03.452Z"
   },
   {
    "duration": 791,
    "start_time": "2025-10-26T14:14:03.827Z"
   },
   {
    "duration": 355,
    "start_time": "2025-10-26T14:14:04.620Z"
   },
   {
    "duration": 4293,
    "start_time": "2025-10-26T14:14:04.977Z"
   },
   {
    "duration": 20,
    "start_time": "2025-10-26T14:14:09.272Z"
   },
   {
    "duration": 49,
    "start_time": "2025-10-26T14:14:09.294Z"
   },
   {
    "duration": 1162,
    "start_time": "2025-10-26T14:14:09.345Z"
   },
   {
    "duration": 72,
    "start_time": "2025-10-26T14:14:10.509Z"
   },
   {
    "duration": 877,
    "start_time": "2025-10-26T14:14:10.584Z"
   },
   {
    "duration": 1918,
    "start_time": "2025-10-26T14:14:11.463Z"
   },
   {
    "duration": 58,
    "start_time": "2025-10-26T14:14:13.383Z"
   },
   {
    "duration": 41,
    "start_time": "2025-10-26T14:14:13.443Z"
   },
   {
    "duration": 8,
    "start_time": "2025-10-26T14:14:13.487Z"
   },
   {
    "duration": 650,
    "start_time": "2025-10-26T14:14:13.497Z"
   },
   {
    "duration": 863,
    "start_time": "2025-10-26T14:14:14.149Z"
   },
   {
    "duration": 1,
    "start_time": "2025-10-26T14:14:15.013Z"
   },
   {
    "duration": 0,
    "start_time": "2025-10-26T14:14:15.015Z"
   },
   {
    "duration": 0,
    "start_time": "2025-10-26T14:14:15.016Z"
   },
   {
    "duration": 0,
    "start_time": "2025-10-26T14:14:15.018Z"
   },
   {
    "duration": 7902,
    "start_time": "2025-10-26T14:15:59.422Z"
   }
  ],
  "colab": {
   "provenance": [],
   "toc_visible": true
  },
  "kernelspec": {
   "display_name": "Python 3 (ipykernel)",
   "language": "python",
   "name": "python3"
  },
  "language_info": {
   "codemirror_mode": {
    "name": "ipython",
    "version": 3
   },
   "file_extension": ".py",
   "mimetype": "text/x-python",
   "name": "python",
   "nbconvert_exporter": "python",
   "pygments_lexer": "ipython3",
   "version": "3.9.5"
  },
  "toc": {
   "base_numbering": 1,
   "nav_menu": {},
   "number_sections": true,
   "sideBar": true,
   "skip_h1_title": true,
   "title_cell": "Table of Contents",
   "title_sidebar": "Contents",
   "toc_cell": false,
   "toc_position": {},
   "toc_section_display": true,
   "toc_window_display": false
  }
 },
 "nbformat": 4,
 "nbformat_minor": 5
}
